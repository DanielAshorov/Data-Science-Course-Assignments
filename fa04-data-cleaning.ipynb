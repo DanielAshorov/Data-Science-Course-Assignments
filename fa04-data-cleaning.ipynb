{
 "cells": [
  {
   "cell_type": "markdown",
   "metadata": {
    "deletable": false,
    "editable": false,
    "nbgrader": {
     "grade": false,
     "locked": true,
     "solution": false
    }
   },
   "source": [
    "![Final Lesson Exercise](images/Banner_FEX.png)"
   ]
  },
  {
   "cell_type": "markdown",
   "metadata": {
    "deletable": false,
    "editable": false,
    "nbgrader": {
     "grade": false,
     "locked": true,
     "solution": false
    }
   },
   "source": [
    "# Lesson #4: Data Cleaning - final assignment\n",
    "## Good Movies - The IMDb movie dataset"
   ]
  },
  {
   "cell_type": "markdown",
   "metadata": {
    "deletable": false,
    "editable": false,
    "nbgrader": {
     "grade": false,
     "locked": true,
     "solution": false
    }
   },
   "source": [
    "## About this assignment\n",
    "In this assignment, you will continue to explore information regarding good movies.<br/>\n",
    "\n",
    "This time you will explore the data, detect and handle problematic data, using new capabilities, which you studied, including:\n",
    "* Duplicative data\n",
    "* Missing Data\n",
    "* Outliers\n",
    "* Data type casting"
   ]
  },
  {
   "cell_type": "markdown",
   "metadata": {
    "deletable": false,
    "editable": false,
    "nbgrader": {
     "grade": false,
     "locked": true,
     "solution": false
    }
   },
   "source": [
    "## Preceding Step - import modules (packages)\n",
    "This step is necessary in order to use external packages. \n",
    "\n",
    "**Use the following libraries for the assignment, when needed**:"
   ]
  },
  {
   "cell_type": "code",
   "execution_count": 1,
   "metadata": {
    "deletable": false,
    "editable": false,
    "nbgrader": {
     "grade": false,
     "locked": true,
     "solution": false
    }
   },
   "outputs": [],
   "source": [
    "# ------------>>>>>>>> RUN THIS CODE CELL <<<<<<<<------------\n",
    "# === CELL TYPE: IMPORTS AND SETUP \n",
    "\n",
    "import time      # for testing use only\n",
    "import os         # for testing use only\n",
    "\n",
    "import pandas as pd\n",
    "import numpy as np\n",
    "import matplotlib.pyplot as plt\n",
    "import seaborn as sns\n",
    "%matplotlib inline"
   ]
  },
  {
   "cell_type": "markdown",
   "metadata": {
    "deletable": false,
    "editable": false,
    "nbgrader": {
     "grade": false,
     "locked": true,
     "solution": false
    }
   },
   "source": [
    "## 1. Load the IMDb movie dataset"
   ]
  },
  {
   "cell_type": "markdown",
   "metadata": {
    "deletable": false,
    "editable": false,
    "nbgrader": {
     "grade": false,
     "locked": true,
     "solution": false
    }
   },
   "source": [
    "### 1. Instructions\n",
    "<u>method name</u>: <b>load_csv</b>\n",
    "<pre>The following is expected:\n",
    "--- Complete the 'load_csv' function to load the dataset from the csv \n",
    "    specified by the 'file_name' parameter, into a pandas dataframe, \n",
    "    and return the dataframe\n",
    "</pre>"
   ]
  },
  {
   "cell_type": "code",
   "execution_count": 2,
   "metadata": {},
   "outputs": [],
   "source": [
    "# 1.\n",
    "# ------------>>>>>>>> RUN THIS CODE CELL <<<<<<<<------------\n",
    "# --------  (run after implementation)\n",
    "# === CODE TYPE: ANSWER \n",
    "\n",
    "def load_csv(file_name):\n",
    "    ###\n",
    "    df = pd.read_csv(file_name)\n",
    "    return df\n",
    "    ###\n"
   ]
  },
  {
   "cell_type": "code",
   "execution_count": 3,
   "metadata": {
    "collapsed": true
   },
   "outputs": [],
   "source": [
    "# 1.\n",
    "# ------------>>>>>>>> RUN THIS CODE CELL <<<<<<<<------------\n",
    "# --------  (run after implementation)\n",
    "# === CODE TYPE: SELF TESTING\n",
    "# Use the following code to test your implementation:\n",
    "file_name = '.' + os.sep + 'data' + os.sep + 'imdb_movies.csv'\n",
    "df_imdb_movies = load_csv(file_name)\n",
    "###\n",
    "### YOUR CODE HERE\n",
    "###\n"
   ]
  },
  {
   "cell_type": "code",
   "execution_count": 4,
   "metadata": {
    "collapsed": true
   },
   "outputs": [],
   "source": [
    "# 1.\n",
    "# ------------>>>>>>>> RUN THIS CODE CELL <<<<<<<<------------\n",
    "# --------  (run after implementation, if used)\n",
    "# === CODE TYPE: SELF TESTING\n",
    "# Add your additional tests here if needed:\n",
    "###\n",
    "### YOUR CODE HERE\n",
    "###\n"
   ]
  },
  {
   "cell_type": "code",
   "execution_count": 5,
   "metadata": {
    "deletable": false,
    "editable": false,
    "nbgrader": {
     "grade": true,
     "grade_id": "test1-1_load_csv",
     "locked": true,
     "points": "0.1",
     "solution": false
    }
   },
   "outputs": [
    {
     "name": "stdout",
     "output_type": "stream",
     "text": [
      "Part 1. - Test 1 (name: test1-1_load_csv, points: 0.1) - Sanity\n",
      "\t--->Testing the implementation of 'load_csv' ...\n",
      "Good Job!\n",
      "You've passed the 1st test for the 'load_csv' function implementation :-)\n"
     ]
    }
   ],
   "source": [
    "# 1.\n",
    "# ------------>>>>>>>> RUN THIS CODE CELL <<<<<<<<------------\n",
    "# --------  (run only)\n",
    "# === CODE TYPE: GRADED TEST \n",
    "\n",
    "print (\"Part 1. - Test 1 (name: test1-1_load_csv, points: 0.1) - Sanity\")\n",
    "print (\"\\t--->Testing the implementation of 'load_csv' ...\")\n",
    "\n",
    "try:\n",
    "    file_name = '.' + os.sep + 'data' + os.sep + 'imdb_movies.csv'\n",
    "    df_imdb_movies = load_csv(file_name)\n",
    "except Exception as e:\n",
    "    print ('You probably have a syntax error, we got the following exception:')\n",
    "    print (str(e))\n",
    "    raise\n",
    "\n",
    "print (\"Good Job!\\nYou've passed the 1st test for the 'load_csv' function implementation :-)\")"
   ]
  },
  {
   "cell_type": "code",
   "execution_count": 6,
   "metadata": {
    "deletable": false,
    "editable": false,
    "nbgrader": {
     "grade": true,
     "grade_id": "test1-2_load_csv",
     "locked": true,
     "points": "0.1",
     "solution": false
    }
   },
   "outputs": [
    {
     "name": "stdout",
     "output_type": "stream",
     "text": [
      "Part 1. - Test 2 (name: test1-2_load_csv, points: 0.1)\n",
      "\t--->Testing the implementation of 'load_csv' ...\n",
      "Good Job!\n",
      "You've passed the 2nd test for the 'load_csv' function implementation :-)\n"
     ]
    }
   ],
   "source": [
    "# 1.\n",
    "# ------------>>>>>>>> RUN THIS CODE CELL <<<<<<<<------------\n",
    "# --------  (run only)\n",
    "# === CODE TYPE: GRADED TEST \n",
    "\n",
    "print (\"Part 1. - Test 2 (name: test1-2_load_csv, points: 0.1)\")\n",
    "print (\"\\t--->Testing the implementation of 'load_csv' ...\")\n",
    "\n",
    "try:\n",
    "    file_name = '.' + os.sep + 'data' + os.sep + 'imdb_movies.csv'\n",
    "    df_imdb_movies = load_csv(file_name)\n",
    "except Exception as e:\n",
    "    print ('You probably have a syntax error, we got the following exception:')\n",
    "    print (str(e))\n",
    "    raise\n",
    "assert df_imdb_movies is not None, \"You did not return an object from the 'load_csv' function, try again\"\n",
    "assert isinstance(df_imdb_movies, pd.DataFrame), \"The object you returned is not a dataframe, try again\"\n",
    "\n",
    "print (\"Good Job!\\nYou've passed the 2nd test for the 'load_csv' function implementation :-)\")"
   ]
  },
  {
   "cell_type": "markdown",
   "metadata": {
    "deletable": false,
    "editable": false,
    "nbgrader": {
     "grade": false,
     "locked": true,
     "solution": false
    }
   },
   "source": [
    "## 2. Basic data Exploration\n",
    "In the following cell(s) you should explore the data and gather information\n",
    "which should assist you to the next steps of handeling the problematic data, using methods you've learned.\n",
    "It is highly recommended to also visualize the data. "
   ]
  },
  {
   "cell_type": "code",
   "execution_count": 7,
   "metadata": {
    "deletable": false,
    "editable": false,
    "nbgrader": {
     "grade": false,
     "locked": true,
     "solution": false
    }
   },
   "outputs": [
    {
     "name": "stdout",
     "output_type": "stream",
     "text": [
      "The first few rows:\n"
     ]
    },
    {
     "data": {
      "text/html": [
       "<div>\n",
       "<style scoped>\n",
       "    .dataframe tbody tr th:only-of-type {\n",
       "        vertical-align: middle;\n",
       "    }\n",
       "\n",
       "    .dataframe tbody tr th {\n",
       "        vertical-align: top;\n",
       "    }\n",
       "\n",
       "    .dataframe thead th {\n",
       "        text-align: right;\n",
       "    }\n",
       "</style>\n",
       "<table border=\"1\" class=\"dataframe\">\n",
       "  <thead>\n",
       "    <tr style=\"text-align: right;\">\n",
       "      <th></th>\n",
       "      <th>color</th>\n",
       "      <th>director_name</th>\n",
       "      <th>num_critic_for_reviews</th>\n",
       "      <th>duration</th>\n",
       "      <th>director_facebook_likes</th>\n",
       "      <th>actor_3_facebook_likes</th>\n",
       "      <th>actor_2_name</th>\n",
       "      <th>actor_1_facebook_likes</th>\n",
       "      <th>gross</th>\n",
       "      <th>genres</th>\n",
       "      <th>...</th>\n",
       "      <th>num_user_for_reviews</th>\n",
       "      <th>language</th>\n",
       "      <th>country</th>\n",
       "      <th>content_rating</th>\n",
       "      <th>budget</th>\n",
       "      <th>title_year</th>\n",
       "      <th>actor_2_facebook_likes</th>\n",
       "      <th>imdb_score</th>\n",
       "      <th>aspect_ratio</th>\n",
       "      <th>movie_facebook_likes</th>\n",
       "    </tr>\n",
       "  </thead>\n",
       "  <tbody>\n",
       "    <tr>\n",
       "      <th>0</th>\n",
       "      <td>Color</td>\n",
       "      <td>James Cameron</td>\n",
       "      <td>723.0</td>\n",
       "      <td>178.0</td>\n",
       "      <td>0.0</td>\n",
       "      <td>855.0</td>\n",
       "      <td>Joel David Moore</td>\n",
       "      <td>1000.0</td>\n",
       "      <td>760505847.0</td>\n",
       "      <td>Action|Adventure|Fantasy|Sci-Fi</td>\n",
       "      <td>...</td>\n",
       "      <td>3054.0</td>\n",
       "      <td>English</td>\n",
       "      <td>USA</td>\n",
       "      <td>PG-13</td>\n",
       "      <td>237000000.0</td>\n",
       "      <td>2009.0</td>\n",
       "      <td>936.0</td>\n",
       "      <td>7.9</td>\n",
       "      <td>1.78</td>\n",
       "      <td>33000</td>\n",
       "    </tr>\n",
       "    <tr>\n",
       "      <th>1</th>\n",
       "      <td>Color</td>\n",
       "      <td>Gore Verbinski</td>\n",
       "      <td>302.0</td>\n",
       "      <td>169.0</td>\n",
       "      <td>563.0</td>\n",
       "      <td>1000.0</td>\n",
       "      <td>Orlando Bloom</td>\n",
       "      <td>40000.0</td>\n",
       "      <td>309404152.0</td>\n",
       "      <td>Action|Adventure|Fantasy</td>\n",
       "      <td>...</td>\n",
       "      <td>1238.0</td>\n",
       "      <td>English</td>\n",
       "      <td>USA</td>\n",
       "      <td>PG-13</td>\n",
       "      <td>300000000.0</td>\n",
       "      <td>2007.0</td>\n",
       "      <td>5000.0</td>\n",
       "      <td>7.1</td>\n",
       "      <td>2.35</td>\n",
       "      <td>0</td>\n",
       "    </tr>\n",
       "    <tr>\n",
       "      <th>2</th>\n",
       "      <td>Color</td>\n",
       "      <td>Sam Mendes</td>\n",
       "      <td>602.0</td>\n",
       "      <td>148.0</td>\n",
       "      <td>0.0</td>\n",
       "      <td>161.0</td>\n",
       "      <td>Rory Kinnear</td>\n",
       "      <td>11000.0</td>\n",
       "      <td>200074175.0</td>\n",
       "      <td>Action|Adventure|Thriller</td>\n",
       "      <td>...</td>\n",
       "      <td>994.0</td>\n",
       "      <td>English</td>\n",
       "      <td>UK</td>\n",
       "      <td>PG-13</td>\n",
       "      <td>245000000.0</td>\n",
       "      <td>2015.0</td>\n",
       "      <td>393.0</td>\n",
       "      <td>6.8</td>\n",
       "      <td>2.35</td>\n",
       "      <td>85000</td>\n",
       "    </tr>\n",
       "    <tr>\n",
       "      <th>3</th>\n",
       "      <td>Color</td>\n",
       "      <td>Christopher Nolan</td>\n",
       "      <td>813.0</td>\n",
       "      <td>164.0</td>\n",
       "      <td>22000.0</td>\n",
       "      <td>23000.0</td>\n",
       "      <td>Christian Bale</td>\n",
       "      <td>27000.0</td>\n",
       "      <td>448130642.0</td>\n",
       "      <td>Action|Thriller</td>\n",
       "      <td>...</td>\n",
       "      <td>2701.0</td>\n",
       "      <td>English</td>\n",
       "      <td>USA</td>\n",
       "      <td>PG-13</td>\n",
       "      <td>250000000.0</td>\n",
       "      <td>2012.0</td>\n",
       "      <td>23000.0</td>\n",
       "      <td>8.5</td>\n",
       "      <td>2.35</td>\n",
       "      <td>164000</td>\n",
       "    </tr>\n",
       "    <tr>\n",
       "      <th>4</th>\n",
       "      <td>NaN</td>\n",
       "      <td>Doug Walker</td>\n",
       "      <td>NaN</td>\n",
       "      <td>NaN</td>\n",
       "      <td>131.0</td>\n",
       "      <td>NaN</td>\n",
       "      <td>Rob Walker</td>\n",
       "      <td>131.0</td>\n",
       "      <td>NaN</td>\n",
       "      <td>Documentary</td>\n",
       "      <td>...</td>\n",
       "      <td>NaN</td>\n",
       "      <td>NaN</td>\n",
       "      <td>NaN</td>\n",
       "      <td>NaN</td>\n",
       "      <td>NaN</td>\n",
       "      <td>NaN</td>\n",
       "      <td>12.0</td>\n",
       "      <td>7.1</td>\n",
       "      <td>NaN</td>\n",
       "      <td>0</td>\n",
       "    </tr>\n",
       "  </tbody>\n",
       "</table>\n",
       "<p>5 rows × 28 columns</p>\n",
       "</div>"
      ],
      "text/plain": [
       "   color      director_name  num_critic_for_reviews  duration  \\\n",
       "0  Color      James Cameron                   723.0     178.0   \n",
       "1  Color     Gore Verbinski                   302.0     169.0   \n",
       "2  Color         Sam Mendes                   602.0     148.0   \n",
       "3  Color  Christopher Nolan                   813.0     164.0   \n",
       "4    NaN        Doug Walker                     NaN       NaN   \n",
       "\n",
       "   director_facebook_likes  actor_3_facebook_likes      actor_2_name  \\\n",
       "0                      0.0                   855.0  Joel David Moore   \n",
       "1                    563.0                  1000.0     Orlando Bloom   \n",
       "2                      0.0                   161.0      Rory Kinnear   \n",
       "3                  22000.0                 23000.0    Christian Bale   \n",
       "4                    131.0                     NaN        Rob Walker   \n",
       "\n",
       "   actor_1_facebook_likes        gross                           genres  ...  \\\n",
       "0                  1000.0  760505847.0  Action|Adventure|Fantasy|Sci-Fi  ...   \n",
       "1                 40000.0  309404152.0         Action|Adventure|Fantasy  ...   \n",
       "2                 11000.0  200074175.0        Action|Adventure|Thriller  ...   \n",
       "3                 27000.0  448130642.0                  Action|Thriller  ...   \n",
       "4                   131.0          NaN                      Documentary  ...   \n",
       "\n",
       "  num_user_for_reviews language  country  content_rating       budget  \\\n",
       "0               3054.0  English      USA           PG-13  237000000.0   \n",
       "1               1238.0  English      USA           PG-13  300000000.0   \n",
       "2                994.0  English       UK           PG-13  245000000.0   \n",
       "3               2701.0  English      USA           PG-13  250000000.0   \n",
       "4                  NaN      NaN      NaN             NaN          NaN   \n",
       "\n",
       "   title_year actor_2_facebook_likes imdb_score  aspect_ratio  \\\n",
       "0      2009.0                  936.0        7.9          1.78   \n",
       "1      2007.0                 5000.0        7.1          2.35   \n",
       "2      2015.0                  393.0        6.8          2.35   \n",
       "3      2012.0                23000.0        8.5          2.35   \n",
       "4         NaN                   12.0        7.1           NaN   \n",
       "\n",
       "  movie_facebook_likes  \n",
       "0                33000  \n",
       "1                    0  \n",
       "2                85000  \n",
       "3               164000  \n",
       "4                    0  \n",
       "\n",
       "[5 rows x 28 columns]"
      ]
     },
     "execution_count": 7,
     "metadata": {},
     "output_type": "execute_result"
    }
   ],
   "source": [
    "# 2.a.\n",
    "# ------------>>>>>>>> RUN THIS CODE CELL <<<<<<<<------------\n",
    "# --------  (run only)\n",
    "\n",
    "file_name = '.' + os.sep + 'data' + os.sep + 'imdb_movies.csv'\n",
    "df_imdb_movies = load_csv(file_name)\n",
    "print ('The first few rows:')\n",
    "df_imdb_movies.head()"
   ]
  },
  {
   "cell_type": "code",
   "execution_count": 8,
   "metadata": {
    "collapsed": true
   },
   "outputs": [],
   "source": [
    "# 2.b.i.\n",
    "# ------------>>>>>>>> RUN THIS CODE CELL <<<<<<<<------------\n",
    "# --------  (run after implementation, if used)\n",
    "# === CODE TYPE: SELF EXPLORATORY\n",
    "# Add your exploratory code (including visualization) here if needed:\n",
    "###\n",
    "### YOUR CODE HERE\n",
    "###\n"
   ]
  },
  {
   "cell_type": "code",
   "execution_count": 9,
   "metadata": {
    "collapsed": true
   },
   "outputs": [],
   "source": [
    "# 2.b.ii.\n",
    "# ------------>>>>>>>> RUN THIS CODE CELL <<<<<<<<------------\n",
    "# --------  (run after implementation, if used)\n",
    "# === CODE TYPE: SELF EXPLORATORY\n",
    "# Add your exploratory code (including visualization) here if needed:\n",
    "###\n",
    "### YOUR CODE HERE\n",
    "###\n"
   ]
  },
  {
   "cell_type": "code",
   "execution_count": 10,
   "metadata": {
    "collapsed": true
   },
   "outputs": [],
   "source": [
    "# 2.b.iii.\n",
    "# ------------>>>>>>>> RUN THIS CODE CELL <<<<<<<<------------\n",
    "# --------  (run after implementation, if used)\n",
    "# === CODE TYPE: SELF EXPLORATORY\n",
    "# Add your exploratory code (including visualization) here if needed:\n",
    "###\n",
    "### YOUR CODE HERE\n",
    "###\n"
   ]
  },
  {
   "cell_type": "code",
   "execution_count": 11,
   "metadata": {
    "collapsed": true
   },
   "outputs": [],
   "source": [
    "# 2.b.iv.\n",
    "# ------------>>>>>>>> RUN THIS CODE CELL <<<<<<<<------------\n",
    "# --------  (run after implementation, if used)\n",
    "# === CODE TYPE: SELF EXPLORATORY\n",
    "# Add your exploratory code (including visualization) here if needed:\n",
    "###\n",
    "### YOUR CODE HERE\n",
    "###\n"
   ]
  },
  {
   "cell_type": "markdown",
   "metadata": {
    "deletable": false,
    "editable": false,
    "nbgrader": {
     "grade": false,
     "locked": true,
     "solution": false
    }
   },
   "source": [
    "## 3. Duplicative data\n",
    "In this section you need to:\n",
    "* Detect duplicative rows or partially duplicative rows\n",
    "* Remove these rows"
   ]
  },
  {
   "cell_type": "markdown",
   "metadata": {
    "deletable": false,
    "editable": false,
    "nbgrader": {
     "grade": false,
     "locked": true,
     "solution": false
    }
   },
   "source": [
    "### 3.a. Detect duplicative rows"
   ]
  },
  {
   "cell_type": "markdown",
   "metadata": {
    "deletable": false,
    "editable": false,
    "nbgrader": {
     "grade": false,
     "locked": true,
     "solution": false
    }
   },
   "source": [
    "### 3.a. Instructions\n",
    "<u>method name</u>: <b>count_duplicatives</b>\n",
    "<pre>The following is expected:\n",
    "--- Complete the 'count_duplicatives' function to calculate and return the \n",
    "    number of duplicative rows for the given 'df' parameter dataframe.\n",
    "    If the 'col_name' parameter is None, you should identify full duplicates.\n",
    "    Otherwise, identify and return the number of rows with duplicates in regard to the column 'col_name'.\n",
    "\n",
    "    Note that for a single duplication, all duplicative rows should be counted as duplications, \n",
    "    besides the first one.\n",
    "    For example, if one row appears 4 times and another row appears 6 times, you should return 8.\n",
    "</pre>"
   ]
  },
  {
   "cell_type": "code",
   "execution_count": 12,
   "metadata": {
    "collapsed": true
   },
   "outputs": [],
   "source": [
    "# 3.a.\n",
    "# ------------>>>>>>>> RUN THIS CODE CELL <<<<<<<<------------\n",
    "# --------  (run after implementation)\n",
    "# === CODE TYPE: ANSWER \n",
    "\n",
    "def count_duplicatives(df, col_name=None):\n",
    "    ###\n",
    "    if col_name:\n",
    "        return df.duplicated([col_name]).sum()\n",
    "    \n",
    "    else:\n",
    "        return df.duplicated().sum()\n",
    "    ###\n"
   ]
  },
  {
   "cell_type": "code",
   "execution_count": 13,
   "metadata": {
    "collapsed": true
   },
   "outputs": [],
   "source": [
    "# 3.a.\n",
    "# ------------>>>>>>>> RUN THIS CODE CELL <<<<<<<<------------\n",
    "# --------  (run after implementation)\n",
    "# === CODE TYPE: SELF TESTING\n",
    "# Use the following code to test your implementation:\n",
    "file_name = '.' + os.sep + 'data' + os.sep + 'imdb_movies.csv'\n",
    "df_imdb_movies = load_csv(file_name)\n",
    "dup_rows =  count_duplicatives(df_imdb_movies)\n",
    "###\n",
    "### YOUR CODE HERE\n",
    "###\n"
   ]
  },
  {
   "cell_type": "code",
   "execution_count": 14,
   "metadata": {
    "collapsed": true
   },
   "outputs": [],
   "source": [
    "# 3.a.\n",
    "# ------------>>>>>>>> RUN THIS CODE CELL <<<<<<<<------------\n",
    "# --------  (run after implementation, if used)\n",
    "# === CODE TYPE: SELF TESTING\n",
    "# Add your additional tests here if needed:\n",
    "###\n",
    "### YOUR CODE HERE\n",
    "###\n"
   ]
  },
  {
   "cell_type": "code",
   "execution_count": 15,
   "metadata": {
    "deletable": false,
    "editable": false,
    "nbgrader": {
     "grade": true,
     "grade_id": "test3a-1_count_duplicatives",
     "locked": true,
     "points": "0.1",
     "solution": false
    }
   },
   "outputs": [
    {
     "name": "stdout",
     "output_type": "stream",
     "text": [
      "Part 3.a - Test 1 (name: test3a-1_count_duplicatives, points: 0.1) - Sanity\n",
      "\t--->Testing the implementation of 'count_duplicatives' ...\n",
      "Duplicatives: 45\n",
      "\n",
      "Good Job!\n",
      "You've passed the 1st test of the 'count_duplicatives' method implementation :-)\n"
     ]
    }
   ],
   "source": [
    "# 3.a.\n",
    "# ------------>>>>>>>> RUN THIS CODE CELL <<<<<<<<------------\n",
    "# --------  (run only)\n",
    "# === CODE TYPE: GRADED TEST \n",
    "\n",
    "print (\"Part 3.a - Test 1 (name: test3a-1_count_duplicatives, points: 0.1) - Sanity\")\n",
    "print (\"\\t--->Testing the implementation of 'count_duplicatives' ...\")\n",
    "\n",
    "dup_rows =  -1\n",
    "try:\n",
    "    file_name = '.' + os.sep + 'data' + os.sep + 'imdb_movies.csv'\n",
    "    df_imdb_movies = load_csv(file_name)\n",
    "    dup_rows =  count_duplicatives(df_imdb_movies)\n",
    "    print ('Duplicatives:', dup_rows)\n",
    "except Exception as e:\n",
    "    print ('You probably have a syntax error, we got the following exception:')\n",
    "    print (str(e))\n",
    "    raise\n",
    "    \n",
    "print (\"\\nGood Job!\\nYou've passed the 1st test of the 'count_duplicatives' method implementation :-)\")"
   ]
  },
  {
   "cell_type": "code",
   "execution_count": 16,
   "metadata": {
    "deletable": false,
    "editable": false,
    "nbgrader": {
     "grade": true,
     "grade_id": "test3a-2_count_duplicatives",
     "locked": true,
     "points": "0.1",
     "solution": false
    }
   },
   "outputs": [
    {
     "name": "stdout",
     "output_type": "stream",
     "text": [
      "Part 3.a - Test 2 (name: test3a-2_count_duplicatives, points: 0.1)\n",
      "\t--->Testing the implementation of 'count_duplicatives' ...\n",
      "Duplicatives: 45\n",
      "\n",
      "Good Job!\n",
      "You've passed the 2nd test of the 'count_duplicatives' method implementation :-)\n"
     ]
    }
   ],
   "source": [
    "# 3.a.\n",
    "# ------------>>>>>>>> RUN THIS CODE CELL <<<<<<<<------------\n",
    "# --------  (run only)\n",
    "# === CODE TYPE: GRADED TEST \n",
    "\n",
    "print (\"Part 3.a - Test 2 (name: test3a-2_count_duplicatives, points: 0.1)\")\n",
    "print (\"\\t--->Testing the implementation of 'count_duplicatives' ...\")\n",
    "\n",
    "dup_rows =  -1\n",
    "try:\n",
    "    file_name = '.' + os.sep + 'data' + os.sep + 'imdb_movies.csv'\n",
    "    df_imdb_movies = load_csv(file_name)\n",
    "    dup_rows =  count_duplicatives(df_imdb_movies)\n",
    "    print ('Duplicatives:', dup_rows)\n",
    "except Exception as e:\n",
    "    print ('You probably have a syntax error, we got the following exception:')\n",
    "    print (str(e))\n",
    "    raise\n",
    "    \n",
    "assert 45  == dup_rows, \"wrong number of duplacitive rows\"\n",
    "\n",
    "print (\"\\nGood Job!\\nYou've passed the 2nd test of the 'count_duplicatives' method implementation :-)\")"
   ]
  },
  {
   "cell_type": "code",
   "execution_count": 17,
   "metadata": {
    "deletable": false,
    "editable": false,
    "nbgrader": {
     "grade": true,
     "grade_id": "test3a-3_count_duplicatives",
     "locked": true,
     "points": "0.2",
     "solution": false
    }
   },
   "outputs": [
    {
     "name": "stdout",
     "output_type": "stream",
     "text": [
      "Part 3.a - Test 3 (name: test3a-3_count_duplicatives, points: 0.2)\n",
      "\t--->Testing the implementation of 'count_duplicatives' ...\n",
      "Partial duplicatives by 'movie_imdb_link': 124\n",
      "\n",
      "Good Job!\n",
      "You've passed the 3rd test of the 'count_duplicatives' method implementation :-)\n"
     ]
    }
   ],
   "source": [
    "# 3.a.\n",
    "# ------------>>>>>>>> RUN THIS CODE CELL <<<<<<<<------------\n",
    "# --------  (run only)\n",
    "# === CODE TYPE: GRADED TEST \n",
    "\n",
    "print (\"Part 3.a - Test 3 (name: test3a-3_count_duplicatives, points: 0.2)\")\n",
    "print (\"\\t--->Testing the implementation of 'count_duplicatives' ...\")\n",
    "\n",
    "partial_dup_rows_by_movie_link = -1\n",
    "try:\n",
    "    file_name = '.' + os.sep + 'data' + os.sep + 'imdb_movies.csv'\n",
    "    df_imdb_movies = load_csv(file_name)\n",
    "    col_name = 'movie_imdb_link'\n",
    "    partial_dup_rows_by_movie_link = count_duplicatives(df_imdb_movies, col_name)\n",
    "    print (\"Partial duplicatives by '%s': %d\" %(col_name, partial_dup_rows_by_movie_link))\n",
    "except Exception as e:\n",
    "    print ('You probably have a syntax error, we got the following exception:')\n",
    "    print (str(e))\n",
    "    raise\n",
    "    \n",
    "assert 124 ==  partial_dup_rows_by_movie_link, \"wrong number of partial duplacitive rows\"\n",
    "\n",
    "print (\"\\nGood Job!\\nYou've passed the 3rd test of the 'count_duplicatives' method implementation :-)\")"
   ]
  },
  {
   "cell_type": "markdown",
   "metadata": {
    "deletable": false,
    "editable": false,
    "nbgrader": {
     "grade": false,
     "locked": true,
     "solution": false
    }
   },
   "source": [
    "### 3.b. Remove duplicative rows"
   ]
  },
  {
   "cell_type": "markdown",
   "metadata": {
    "deletable": false,
    "editable": false,
    "nbgrader": {
     "grade": false,
     "locked": true,
     "solution": false
    }
   },
   "source": [
    "### 3.b. Instructions\n",
    "<u>method name</u>: <b>remove_duplicatives</b>\n",
    "<pre>The following is expected:\n",
    "--- Complete the 'remove_duplicatives' function to return a copy of a the given 'df' dataframe,\n",
    "    after removing the duplicatives.\n",
    "    \n",
    "    If the 'col_name' parameter is None, you should remove full duplicative rows.\n",
    "    Otherwise, identify and remove duplicates in regard to the column 'col_name'.\n",
    "\n",
    "    Note that for a single duplication, you should keep only the first occurrence. \n",
    "</pre>"
   ]
  },
  {
   "cell_type": "code",
   "execution_count": 18,
   "metadata": {
    "collapsed": true
   },
   "outputs": [],
   "source": [
    "# 3.b.\n",
    "# ------------>>>>>>>> RUN THIS CODE CELL <<<<<<<<------------\n",
    "# --------  (run after implementation)\n",
    "# === CODE TYPE: ANSWER \n",
    "\n",
    "def remove_duplicatives(df, col_name=None):\n",
    "    ###\n",
    "    if col_name:\n",
    "        return df.drop_duplicates([col_name])\n",
    "    \n",
    "    else:\n",
    "        return df.drop_duplicates()\n",
    "    ###\n"
   ]
  },
  {
   "cell_type": "code",
   "execution_count": 19,
   "metadata": {},
   "outputs": [],
   "source": [
    "# 3.b.\n",
    "# ------------>>>>>>>> RUN THIS CODE CELL <<<<<<<<------------\n",
    "# --------  (run after implementation)\n",
    "# === CODE TYPE: SELF TESTING\n",
    "# Use the following code to test your implementation:\n",
    "file_name = '.' + os.sep + 'data' + os.sep + 'imdb_movies.csv'\n",
    "df_imdb_movies = load_csv(file_name)\n",
    "col_name = 'movie_imdb_link'\n",
    "df_rem_dup_rows =  remove_duplicatives(df_imdb_movies)\n",
    "df_rem_partial_dups = remove_duplicatives(df_imdb_movies, col_name)\n",
    "###\n",
    "### YOUR CODE HERE\n",
    "###\n"
   ]
  },
  {
   "cell_type": "code",
   "execution_count": 20,
   "metadata": {
    "collapsed": true
   },
   "outputs": [],
   "source": [
    "# 3.b.\n",
    "# ------------>>>>>>>> RUN THIS CODE CELL <<<<<<<<------------\n",
    "# --------  (run after implementation, if used)\n",
    "# === CODE TYPE: SELF TESTING\n",
    "# Add your additional tests here if needed:\n",
    "###\n",
    "### YOUR CODE HERE\n",
    "###\n"
   ]
  },
  {
   "cell_type": "code",
   "execution_count": 21,
   "metadata": {
    "deletable": false,
    "editable": false,
    "nbgrader": {
     "grade": true,
     "grade_id": "test3b-1_remove_duplicatives",
     "locked": true,
     "points": "0.1",
     "solution": false
    }
   },
   "outputs": [
    {
     "name": "stdout",
     "output_type": "stream",
     "text": [
      "Part 3.b - Test 1 (name: test3b-1_remove_duplicatives, points: 0.1) - Sanity\n",
      "\t--->Testing the implementation of 'remove_duplicatives' ...\n",
      "\n",
      "Good Job!\n",
      "You've passed the 1st test of the 'remove_duplicatives' method implementation :-)\n"
     ]
    }
   ],
   "source": [
    "# 3.b.\n",
    "# ------------>>>>>>>> RUN THIS CODE CELL <<<<<<<<------------\n",
    "# --------  (run only)\n",
    "# === CODE TYPE: GRADED TEST \n",
    "\n",
    "print (\"Part 3.b - Test 1 (name: test3b-1_remove_duplicatives, points: 0.1) - Sanity\")\n",
    "print (\"\\t--->Testing the implementation of 'remove_duplicatives' ...\")\n",
    "\n",
    "try:\n",
    "    file_name = '.' + os.sep + 'data' + os.sep + 'imdb_movies.csv'\n",
    "    df_imdb_movies = load_csv(file_name)\n",
    "    col_name = 'movie_imdb_link'\n",
    "    df_rem_dup_rows =  remove_duplicatives(df_imdb_movies)\n",
    "    df_rem_partial_dups = remove_duplicatives(df_imdb_movies, col_name)\n",
    "except Exception as e:\n",
    "    print ('You probably have a syntax error, we got the following exception:')\n",
    "    print (str(e))\n",
    "    raise\n",
    "    \n",
    "print (\"\\nGood Job!\\nYou've passed the 1st test of the 'remove_duplicatives' method implementation :-)\")"
   ]
  },
  {
   "cell_type": "code",
   "execution_count": 22,
   "metadata": {
    "deletable": false,
    "editable": false,
    "nbgrader": {
     "grade": true,
     "grade_id": "test3b-2_remove_duplicatives",
     "locked": true,
     "points": "0.3",
     "solution": false
    }
   },
   "outputs": [
    {
     "name": "stdout",
     "output_type": "stream",
     "text": [
      "Part 3.b - Test 2 (name: test3b-2_remove_duplicatives, points: 0.3)\n",
      "\t--->Testing the implementation of 'remove_duplicatives' ...\n",
      "\n",
      "Good Job!\n",
      "You've passed the 2nd test of the 'remove_duplicatives' method implementation :-)\n"
     ]
    }
   ],
   "source": [
    "# 3.b.\n",
    "# ------------>>>>>>>> RUN THIS CODE CELL <<<<<<<<------------\n",
    "# --------  (run only)\n",
    "# === CODE TYPE: GRADED TEST \n",
    "\n",
    "print (\"Part 3.b - Test 2 (name: test3b-2_remove_duplicatives, points: 0.3)\")\n",
    "print (\"\\t--->Testing the implementation of 'remove_duplicatives' ...\")\n",
    "\n",
    "\n",
    "try:\n",
    "    file_name = '.' + os.sep + 'data' + os.sep + 'imdb_movies.csv'\n",
    "    df_imdb_movies = load_csv(file_name)\n",
    "    col_name = 'movie_imdb_link'\n",
    "    df_rem_dup_rows =  remove_duplicatives(df_imdb_movies)\n",
    "    df_rem_partial_dups = remove_duplicatives(df_imdb_movies, col_name)\n",
    "except Exception as e:\n",
    "    print ('You probably have a syntax error, we got the following exception:')\n",
    "    print (str(e))\n",
    "    raise\n",
    "    \n",
    "assert 4998  == df_rem_dup_rows.shape[0], \"wrong number of duplacitive rows\"\n",
    "assert 4919 ==  df_rem_partial_dups.shape[0], \"wrong number of partial duplacitive rows\"\n",
    "    \n",
    "print (\"\\nGood Job!\\nYou've passed the 2nd test of the 'remove_duplicatives' method implementation :-)\")"
   ]
  },
  {
   "cell_type": "markdown",
   "metadata": {
    "collapsed": true,
    "deletable": false,
    "editable": false,
    "nbgrader": {
     "grade": false,
     "locked": true,
     "solution": false
    }
   },
   "source": [
    "## 4. Handle missing data\n",
    "In this section you'll need to detect and handle missing data.<br/>\n",
    "Remember that:\n",
    "* Not all data types are treated equally\n",
    "* In some cases, many fields have missing data, and the record (row) just seems to be corrupt\n",
    "* Different fields (columns) might have their own logic"
   ]
  },
  {
   "cell_type": "code",
   "execution_count": 23,
   "metadata": {
    "collapsed": true
   },
   "outputs": [],
   "source": [
    "# 4.a.\n",
    "# ------------>>>>>>>> RUN THIS CODE CELL <<<<<<<<------------\n",
    "# --------  (run after implementation, if used)\n",
    "# === CODE TYPE: SELF EXPLORATORY\n",
    "# Add your exploratory code (including visualization) here if needed:\n",
    "###\n",
    "### YOUR CODE HERE\n",
    "###\n"
   ]
  },
  {
   "cell_type": "markdown",
   "metadata": {
    "collapsed": true,
    "deletable": false,
    "editable": false,
    "nbgrader": {
     "grade": false,
     "locked": true,
     "solution": false
    }
   },
   "source": [
    "### 4.b. Remove corrupt rows\n",
    "Remove rows with too many missing values"
   ]
  },
  {
   "cell_type": "markdown",
   "metadata": {
    "collapsed": true,
    "deletable": false,
    "editable": false,
    "nbgrader": {
     "grade": false,
     "locked": true,
     "solution": false
    }
   },
   "source": [
    "### 4.b. Instructions\n",
    "<u>method name</u>: <b>remove_corrupt_rows</b>\n",
    "<pre>The following is expected:\n",
    "--- Complete the 'remove_corrupt_rows' function to return a copy of a the given 'df' dataframe,\n",
    "    after removing rows with too many missing values.\n",
    "    A row with too many missing columns is a row with MORE THAN 'num_max_missing_cols' missing columns.\n",
    "</pre>"
   ]
  },
  {
   "cell_type": "code",
   "execution_count": 24,
   "metadata": {
    "collapsed": true
   },
   "outputs": [],
   "source": [
    "# 4.b.\n",
    "# ------------>>>>>>>> RUN THIS CODE CELL <<<<<<<<------------\n",
    "# --------  (run after implementation)\n",
    "# === CODE TYPE: ANSWER \n",
    "\n",
    "def remove_corrupt_rows(df, num_max_missing_cols):\n",
    "    ###\n",
    "    num = len(df.columns)- num_max_missing_cols\n",
    "    return df.dropna(axis = 0 , thresh = num).copy()\n",
    "    ###\n"
   ]
  },
  {
   "cell_type": "code",
   "execution_count": 25,
   "metadata": {
    "collapsed": true
   },
   "outputs": [],
   "source": [
    "# 4.b.\n",
    "# ------------>>>>>>>> RUN THIS CODE CELL <<<<<<<<------------\n",
    "# --------  (run after implementation)\n",
    "# === CODE TYPE: SELF TESTING\n",
    "# Use the following code to test your implementation:\n",
    "file_name = '.' + os.sep + 'data' + os.sep + 'imdb_movies.csv'\n",
    "col_name = 'movie_imdb_link'\n",
    "df_imdb_movies = load_csv(file_name)\n",
    "df_cln = remove_duplicatives(df_imdb_movies, col_name)\n",
    "df_rem_corrupt = remove_corrupt_rows(df_cln, 3)\n",
    "###\n",
    "### YOUR CODE HERE\n",
    "###\n"
   ]
  },
  {
   "cell_type": "code",
   "execution_count": 26,
   "metadata": {
    "collapsed": true
   },
   "outputs": [],
   "source": [
    "# 4.b.\n",
    "# ------------>>>>>>>> RUN THIS CODE CELL <<<<<<<<------------\n",
    "# --------  (run after implementation, if used)\n",
    "# === CODE TYPE: SELF TESTING\n",
    "# Add your additional tests here if needed:\n",
    "\n",
    "###\n",
    "### YOUR CODE HERE\n",
    "###\n"
   ]
  },
  {
   "cell_type": "code",
   "execution_count": 27,
   "metadata": {
    "deletable": false,
    "editable": false,
    "nbgrader": {
     "grade": true,
     "grade_id": "test4b-1_remove_corrupt_rows",
     "locked": true,
     "points": "0.1",
     "solution": false
    }
   },
   "outputs": [
    {
     "name": "stdout",
     "output_type": "stream",
     "text": [
      "Part 4.b. - Test 1 (name: test4b-1_remove_corrupt_rows, points: 0.1) - Sanity\n",
      "\t--->Testing the implementation of 'remove_corrupt_rows' ...\n",
      "Test 1 - Testing the implementations of the 'remove_corrupt_rows' method ...\n",
      "\n",
      "\n",
      "Good Job!\n",
      "You've passed the 1st test of the 'remove_corrupt_rows' method implementation :-)\n"
     ]
    }
   ],
   "source": [
    "# 4.b.\n",
    "# ------------>>>>>>>> RUN THIS CODE CELL <<<<<<<<------------\n",
    "# --------  (run only)\n",
    "# === CODE TYPE: GRADED TEST \n",
    "\n",
    "print (\"Part 4.b. - Test 1 (name: test4b-1_remove_corrupt_rows, points: 0.1) - Sanity\")\n",
    "print (\"\\t--->Testing the implementation of 'remove_corrupt_rows' ...\")\n",
    "\n",
    "print (\"Test 1 - Testing the implementations of the 'remove_corrupt_rows' method ...\\n\")\n",
    "\n",
    "file_name = '.' + os.sep + 'data' + os.sep + 'imdb_movies.csv'\n",
    "col_name = 'movie_imdb_link'\n",
    "try:\n",
    "    df_imdb_movies = load_csv(file_name)\n",
    "    df_cln = remove_duplicatives(df_imdb_movies, col_name)\n",
    "    df_rem_corrupt = remove_corrupt_rows(df_cln, 3)\n",
    "except Exception as e:\n",
    "    print ('You probably have a syntax error, we got the following exception:')\n",
    "    print (str(e))\n",
    "    raise\n",
    "\n",
    "print (\"\\nGood Job!\\nYou've passed the 1st test of the 'remove_corrupt_rows' method implementation :-)\")"
   ]
  },
  {
   "cell_type": "code",
   "execution_count": 28,
   "metadata": {
    "deletable": false,
    "editable": false,
    "nbgrader": {
     "grade": true,
     "grade_id": "test4b-2_remove_corrupt_rows",
     "locked": true,
     "points": "0.4",
     "solution": false
    }
   },
   "outputs": [
    {
     "name": "stdout",
     "output_type": "stream",
     "text": [
      "Part 4.b. - Test 2 (name: test4b-2_remove_corrupt_rows, points: 0.4)\n",
      "\t--->Testing the implementation of 'remove_corrupt_rows' ...\n",
      "\n",
      "Good Job!\n",
      "You've passed the 2nd test of the 'remove_corrupt_rows' method implementation :-)\n"
     ]
    }
   ],
   "source": [
    "# 4.b.\n",
    "# ------------>>>>>>>> RUN THIS CODE CELL <<<<<<<<------------\n",
    "# --------  (run only)\n",
    "# === CODE TYPE: GRADED TEST \n",
    "\n",
    "\n",
    "print (\"Part 4.b. - Test 2 (name: test4b-2_remove_corrupt_rows, points: 0.4)\")\n",
    "print (\"\\t--->Testing the implementation of 'remove_corrupt_rows' ...\")\n",
    "\n",
    "file_name = '.' + os.sep + 'data' + os.sep + 'imdb_movies.csv'\n",
    "col_name = 'movie_imdb_link'\n",
    "try:\n",
    "    df_imdb_movies = load_csv(file_name)\n",
    "    df_cln = remove_duplicatives(df_imdb_movies, col_name)\n",
    "    df_rem_corrupt = remove_corrupt_rows(df_cln, 3)\n",
    "except Exception as e:\n",
    "    print ('You probably have a syntax error, we got the following exception:')\n",
    "    print (str(e))\n",
    "    raise\n",
    "\n",
    "for nIndx in [4,479,2412,4281]:\n",
    "    assert nIndx not in df_rem_corrupt.index, \"row '%d' should be filtered\" %(nIndx)\n",
    "    \n",
    "print (\"\\nGood Job!\\nYou've passed the 2nd test of the 'remove_corrupt_rows' method implementation :-)\")"
   ]
  },
  {
   "cell_type": "code",
   "execution_count": 29,
   "metadata": {
    "deletable": false,
    "editable": false,
    "nbgrader": {
     "grade": true,
     "grade_id": "test4b-3_remove_corrupt_rows",
     "locked": true,
     "points": "0.5",
     "solution": false
    }
   },
   "outputs": [
    {
     "name": "stdout",
     "output_type": "stream",
     "text": [
      "Part 4.b. - Test 3 (name: test4b-3_remove_corrupt_rows, points: 0.5)\n",
      "\t--->Testing the implementation of 'remove_corrupt_rows' ...\n",
      "\n",
      "Good Job!\n",
      "You've passed the 3rd test of the 'remove_corrupt_rows' method implementation :-)\n"
     ]
    }
   ],
   "source": [
    "# 4.b.\n",
    "# ------------>>>>>>>> RUN THIS CODE CELL <<<<<<<<------------\n",
    "# --------  (run only)\n",
    "# === CODE TYPE: GRADED TEST \n",
    "\n",
    "print (\"Part 4.b. - Test 3 (name: test4b-3_remove_corrupt_rows, points: 0.5)\")\n",
    "print (\"\\t--->Testing the implementation of 'remove_corrupt_rows' ...\")\n",
    "\n",
    "file_name = '.' + os.sep + 'data' + os.sep + 'imdb_movies.csv'\n",
    "col_name = 'movie_imdb_link'\n",
    "try:\n",
    "    df_imdb_movies = load_csv(file_name)\n",
    "    df_cln = remove_duplicatives(df_imdb_movies, col_name)\n",
    "    df_rem_corrupt = remove_corrupt_rows(df_cln, 3)\n",
    "except Exception as e:\n",
    "    print ('You probably have a syntax error, we got the following exception:')\n",
    "    print (str(e))\n",
    "    raise\n",
    "\n",
    "nan_vals_which_should_be_removed = [177, 260,  1265, 1736, 2143, 2370, 3539, 4288, 4299, 4999, 5032, 5038]\n",
    "for nIndx in nan_vals_which_should_be_removed:\n",
    "    assert nIndx not in df_rem_corrupt.index, \"row '%d' should be filtered\" %(nIndx)\n",
    "    \n",
    "print (\"\\nGood Job!\\nYou've passed the 3rd test of the 'remove_corrupt_rows' method implementation :-)\")"
   ]
  },
  {
   "cell_type": "markdown",
   "metadata": {
    "collapsed": true,
    "deletable": false,
    "editable": false,
    "nbgrader": {
     "grade": false,
     "locked": true,
     "solution": false
    }
   },
   "source": [
    "### 4.c. Replace missing values\n",
    "In this section you need to replace the values of missing data cells.<br/>\n",
    "You need to treat the following:\n",
    "* Predefined columns, which will get a default value\n",
    "* Numeric columns\n",
    "* Categorical colums"
   ]
  },
  {
   "cell_type": "markdown",
   "metadata": {
    "deletable": false,
    "editable": false,
    "nbgrader": {
     "grade": false,
     "locked": true,
     "solution": false
    }
   },
   "source": [
    "### 4.c. Instructions\n",
    "<u>method name</u>: <b>replace_missing_values</b>\n",
    "<pre>The following is expected:\n",
    "--- Complete the 'replace_missing_values' function to return a copy of a the given 'df' dataframe\n",
    "    after replacing missing values.\n",
    "\n",
    "    - The 'col_to_def_val_dict' is a dictionary of columns to default values.\n",
    "      In these columns (keys), you need to replace the missing value with the given default value (values).\n",
    "\n",
    "      Other columns are either numeric or categorical.\n",
    "      - Missing values from numeric columns, should be replaced with the median.\n",
    "      - Missing values from categorical columns, should be replaced with the most frequent value.\n",
    "         * Note: We consider categorical columns as columns which are not in \n",
    "               the 'col_to_def_val_dict' dictionary and are not numeric columns. \n",
    "</pre>"
   ]
  },
  {
   "cell_type": "code",
   "execution_count": 30,
   "metadata": {
    "collapsed": true
   },
   "outputs": [],
   "source": [
    "# 4.c.\n",
    "# ------------>>>>>>>> RUN THIS CODE CELL <<<<<<<<------------\n",
    "# --------  (run after implementation)\n",
    "# === CODE TYPE: ANSWER \n",
    "\n",
    "def replace_missing_values(df, col_to_def_val_dict):\n",
    "    ###\n",
    "    df2= df.copy()\n",
    "    \n",
    "    for column in df2:\n",
    "        if column in col_to_def_val_dict.keys() :\n",
    "            \n",
    "            df2[column].fillna(col_to_def_val_dict[column] ,inplace = True)\n",
    "        elif(df2[column]).dtypes== object :\n",
    "            df2[column].fillna(df2[column].mode()[0], inplace = True)\n",
    "            \n",
    "        else :\n",
    "            df2[column].fillna(df2[column].median() ,inplace = True)\n",
    "    ###\n",
    "    return df2\n",
    "    \n"
   ]
  },
  {
   "cell_type": "code",
   "execution_count": 31,
   "metadata": {
    "collapsed": true
   },
   "outputs": [],
   "source": [
    "# 4.c.\n",
    "# ------------>>>>>>>> RUN THIS CODE CELL <<<<<<<<------------\n",
    "# --------  (run after implementation)\n",
    "# === CODE TYPE: SELF TESTING\n",
    "# Use the following code to test your implementation:\n",
    "\n",
    "file_name = '.' + os.sep + 'data' + os.sep + 'imdb_movies.csv'\n",
    "col_name = 'movie_imdb_link'\n",
    "col_to_def_val = {'director_name':'unknown', \n",
    "    'actor_1_name':'unknown', 'actor_2_name':'unknown', 'actor_3_name':'unknown', 'genres':'unknown', \n",
    "    'plot_keywords':'unknown', 'movie_title':'unknown', 'movie_imdb_link':'unknown', 'country':'unknown'}\n",
    "df_imdb_movies = load_csv(file_name)\n",
    "df_cln = remove_duplicatives(df_imdb_movies, col_name)\n",
    "df_rem_corrupt = remove_corrupt_rows(df_cln, 3)\n",
    "df_rpl_missing = replace_missing_values(df_rem_corrupt, col_to_def_val)\n",
    "###\n",
    "### YOUR CODE HERE\n",
    "###\n"
   ]
  },
  {
   "cell_type": "code",
   "execution_count": 32,
   "metadata": {
    "collapsed": true
   },
   "outputs": [],
   "source": [
    "# 4.c.\n",
    "# ------------>>>>>>>> RUN THIS CODE CELL <<<<<<<<------------\n",
    "# --------  (run after implementation, if used)\n",
    "# === CODE TYPE: SELF TESTING\n",
    "# Add your additional tests here if needed:\n",
    "\n",
    "###\n",
    "### YOUR CODE HERE\n",
    "###\n"
   ]
  },
  {
   "cell_type": "code",
   "execution_count": 33,
   "metadata": {
    "deletable": false,
    "editable": false,
    "nbgrader": {
     "grade": true,
     "grade_id": "test4c-1_replace_missing_values",
     "locked": true,
     "points": "0.1",
     "solution": false
    }
   },
   "outputs": [
    {
     "name": "stdout",
     "output_type": "stream",
     "text": [
      "Part 4.c. - Test 1 (name: test4c-1_replace_missing_values, points: 0.1) - Sanity\n",
      "\t--->Testing the implementation of 'replace_missing_values' ...\n",
      "\n",
      "Good Job!\n",
      "You've passed the 1st test of the 'replace_missing_values' method implementation :-)\n"
     ]
    }
   ],
   "source": [
    "# 4.c.\n",
    "# ------------>>>>>>>> RUN THIS CODE CELL <<<<<<<<------------\n",
    "# --------  (run only)\n",
    "# === CODE TYPE: GRADED TEST \n",
    "\n",
    "print (\"Part 4.c. - Test 1 (name: test4c-1_replace_missing_values, points: 0.1) - Sanity\")\n",
    "print (\"\\t--->Testing the implementation of 'replace_missing_values' ...\")\n",
    "\n",
    "file_name = '.' + os.sep + 'data' + os.sep + 'imdb_movies.csv'\n",
    "col_name = 'movie_imdb_link'\n",
    "col_to_def_val = {'director_name':'unknown', \n",
    "    'actor_1_name':'unknown', 'actor_2_name':'unknown', 'actor_3_name':'unknown', 'genres':'unknown', \n",
    "    'plot_keywords':'unknown', 'movie_title':'unknown', 'movie_imdb_link':'unknown', 'country':'unknown'}\n",
    "try:\n",
    "    df_imdb_movies = load_csv(file_name)\n",
    "    df_cln = remove_duplicatives(df_imdb_movies, col_name)\n",
    "    df_rem_corrupt = remove_corrupt_rows(df_cln, 3)\n",
    "    df_rpl_missing = replace_missing_values(df_rem_corrupt, col_to_def_val)\n",
    "except Exception as e:\n",
    "    print ('You probably have a syntax error, we got the following exception:')\n",
    "    print (str(e))\n",
    "    raise\n",
    "    \n",
    "print (\"\\nGood Job!\\nYou've passed the 1st test of the 'replace_missing_values' method implementation :-)\")"
   ]
  },
  {
   "cell_type": "code",
   "execution_count": 34,
   "metadata": {
    "deletable": false,
    "editable": false,
    "nbgrader": {
     "grade": true,
     "grade_id": "test4c-2_replace_missing_values",
     "locked": true,
     "points": "0.2",
     "solution": false
    }
   },
   "outputs": [
    {
     "name": "stdout",
     "output_type": "stream",
     "text": [
      "Part 4.c. - Test 2 (name: test4c-2_replace_missing_values, points: 0.2)\n",
      "\t--->Testing the implementation of 'replace_missing_values' ...\n",
      "\n",
      "Good Job!\n",
      "You've passed the 2nd test of the 'replace_missing_values' method implementation :-)\n"
     ]
    }
   ],
   "source": [
    "# 4.c.\n",
    "# ------------>>>>>>>> RUN THIS CODE CELL <<<<<<<<------------\n",
    "# --------  (run only)\n",
    "# === CODE TYPE: GRADED TEST \n",
    "\n",
    "print (\"Part 4.c. - Test 2 (name: test4c-2_replace_missing_values, points: 0.2)\")\n",
    "print (\"\\t--->Testing the implementation of 'replace_missing_values' ...\")\n",
    "\n",
    "file_name = '.' + os.sep + 'data' + os.sep + 'imdb_movies.csv'\n",
    "col_name = 'movie_imdb_link'\n",
    "col_to_def_val = {'director_name':'unknown', \n",
    "    'actor_1_name':'unknown', 'actor_2_name':'unknown', 'actor_3_name':'unknown', 'genres':'unknown', \n",
    "    'plot_keywords':'unknown', 'movie_title':'unknown', 'movie_imdb_link':'unknown', 'country':'unknown'}\n",
    "try:\n",
    "    df_imdb_movies = load_csv(file_name)\n",
    "    df_cln = remove_duplicatives(df_imdb_movies, col_name)\n",
    "    df_rem_corrupt = remove_corrupt_rows(df_cln, 3)\n",
    "    df_rpl_missing = replace_missing_values(df_rem_corrupt, col_to_def_val)\n",
    "except Exception as e:\n",
    "    print ('You probably have a syntax error, we got the following exception:')\n",
    "    print (str(e))\n",
    "    raise\n",
    "    \n",
    "assert 0==len(df_rpl_missing[df_rpl_missing.isnull().T.any()].index.values), \"There should be no missing values after 'replace_missing_values'\"\n",
    "assert df_rem_corrupt.shape[0] == df_rpl_missing.shape[0] and df_rem_corrupt.shape[1] == df_rpl_missing.shape[1],  \"Dataframes 'df_rem_corrupt' & 'df_rpl_missing' should have the same shape\"\n",
    "\n",
    "print (\"\\nGood Job!\\nYou've passed the 2nd test of the 'replace_missing_values' method implementation :-)\")"
   ]
  },
  {
   "cell_type": "code",
   "execution_count": 35,
   "metadata": {
    "deletable": false,
    "editable": false,
    "nbgrader": {
     "grade": true,
     "grade_id": "test4c-3_replace_missing_values",
     "locked": true,
     "points": "0.4",
     "solution": false
    }
   },
   "outputs": [
    {
     "name": "stdout",
     "output_type": "stream",
     "text": [
      "Part 4.c. - Test 3 (name: test4c-3_replace_missing_values, points: 0.4)\n",
      "\t--->Testing the implementation of 'replace_missing_values' ...\n",
      "Finished numeric field missing value tests\n",
      "======================\n",
      "\n",
      "Good Job!\n",
      "You've passed the 3rd test of the 'replace_missing_values' method implementation :-)\n"
     ]
    }
   ],
   "source": [
    "# 4.c.\n",
    "# ------------>>>>>>>> RUN THIS CODE CELL <<<<<<<<------------\n",
    "# --------  (run only)\n",
    "# === CODE TYPE: GRADED TEST \n",
    "\n",
    "print (\"Part 4.c. - Test 3 (name: test4c-3_replace_missing_values, points: 0.4)\")\n",
    "print (\"\\t--->Testing the implementation of 'replace_missing_values' ...\")\n",
    "\n",
    "file_name = '.' + os.sep + 'data' + os.sep + 'imdb_movies.csv'\n",
    "col_name = 'movie_imdb_link'\n",
    "col_to_def_val = {'director_name':'unknown', \n",
    "    'actor_1_name':'unknown', 'actor_2_name':'unknown', 'actor_3_name':'unknown', 'genres':'unknown', \n",
    "    'plot_keywords':'unknown', 'movie_title':'unknown', 'movie_imdb_link':'unknown', 'country':'unknown'}\n",
    "try:\n",
    "    df_imdb_movies = load_csv(file_name)\n",
    "    df_cln = remove_duplicatives(df_imdb_movies, col_name)\n",
    "    df_rem_corrupt = remove_corrupt_rows(df_cln, 3)\n",
    "    df_rpl_missing = replace_missing_values(df_rem_corrupt, col_to_def_val)\n",
    "except Exception as e:\n",
    "    print ('You probably have a syntax error, we got the following exception:')\n",
    "    print (str(e))\n",
    "    raise\n",
    "\n",
    "assert 20000000.0 == df_rpl_missing['budget'].loc[55],\"Wrong value for the 'budget' column\"\n",
    "assert 2.35 == df_rpl_missing['aspect_ratio'].loc[84],\"Wrong value for the 'aspect_ratio' column\"\n",
    "assert 25105552.5 == df_rpl_missing['gross'].loc[98],\"Wrong value for the 'gross' column\"\n",
    "print ('Finished numeric field missing value tests')\n",
    "print ('======================')\n",
    "\n",
    "print (\"\\nGood Job!\\nYou've passed the 3rd test of the 'replace_missing_values' method implementation :-)\")"
   ]
  },
  {
   "cell_type": "code",
   "execution_count": 36,
   "metadata": {
    "deletable": false,
    "editable": false,
    "nbgrader": {
     "grade": true,
     "grade_id": "test4c-4_replace_missing_values",
     "locked": true,
     "points": "0.3",
     "solution": false
    }
   },
   "outputs": [
    {
     "name": "stdout",
     "output_type": "stream",
     "text": [
      "Part 4.c. - Test 4 (name: test4c-4_replace_missing_values, points: 0.3)\n",
      "\t--->Testing the implementation of 'replace_missing_values' ...\n",
      "\n",
      "\t====> Full grading test - the following test can not be seen before submission\n"
     ]
    }
   ],
   "source": [
    "# 4.c.\n",
    "# ------------>>>>>>>> RUN THIS CODE CELL <<<<<<<<------------\n",
    "# --------  (run only)\n",
    "# === CODE TYPE: GRADED TEST \n",
    "\n",
    "print (\"Part 4.c. - Test 4 (name: test4c-4_replace_missing_values, points: 0.3)\")\n",
    "print (\"\\t--->Testing the implementation of 'replace_missing_values' ...\")\n",
    "print (\"\\n\\t====> Full grading test - the following test can not be seen before submission\")\n",
    "###\n",
    "### AUTOGRADER TEST - DO NOT REMOVE\n",
    "###\n"
   ]
  },
  {
   "cell_type": "markdown",
   "metadata": {
    "collapsed": true,
    "deletable": false,
    "editable": false,
    "nbgrader": {
     "grade": false,
     "locked": true,
     "solution": false
    }
   },
   "source": [
    "## 5. Handle outliers\n",
    "In this section you'll need to detect and handle outliers in the data.<br/>\n",
    "You'll need to implement:\n",
    "* Outlier detection, using the IQR method\n",
    "* Outlier detection, using the distance to the average of the column\n",
    "\n",
    "Note: Using visualization was also one of the techniques you've learned.<br/>\n",
    "      You are advised to use it as a preprocessing step, to get a feeling for outliers."
   ]
  },
  {
   "cell_type": "code",
   "execution_count": 37,
   "metadata": {
    "collapsed": true
   },
   "outputs": [],
   "source": [
    "# 5.a.\n",
    "# ------------>>>>>>>> RUN THIS CODE CELL <<<<<<<<------------\n",
    "# --------  (run after implementation, if used)\n",
    "# === CODE TYPE: SELF EXPLORATORY\n",
    "# Add your exploratory code (including visualization) here if needed:\n",
    "\n",
    "###\n",
    "### YOUR CODE HERE\n",
    "###\n"
   ]
  },
  {
   "cell_type": "markdown",
   "metadata": {
    "deletable": false,
    "editable": false,
    "nbgrader": {
     "grade": false,
     "locked": true,
     "solution": false
    }
   },
   "source": [
    "### 5.b. Outlier detection, using the IQR value"
   ]
  },
  {
   "cell_type": "markdown",
   "metadata": {
    "deletable": false,
    "editable": false,
    "nbgrader": {
     "grade": false,
     "locked": true,
     "solution": false
    }
   },
   "source": [
    "### 5.b. Instructions\n",
    "<u>method name</u>: <b>outlier_detection_iqr</b>\n",
    "<pre>The following is expected:\n",
    "--- Complete the 'outlier_detection_iqr' function to return a copy of a the given 'df' dataframe\n",
    "    after dealing with outliers, using the IQR method as you learned in this lesson.\n",
    "    \n",
    "    An outlier will be considered a value greater than Q3 + 1.5*IQR,\n",
    "       or a value less than Q1 - 1.5*IQR.\n",
    "\n",
    "    You should only refer to numerical columns when detecting outliers.   \n",
    "    If the value is an outlier, replace it with np.nan \n",
    "</pre>"
   ]
  },
  {
   "cell_type": "code",
   "execution_count": 38,
   "metadata": {
    "collapsed": true
   },
   "outputs": [],
   "source": [
    "# 5.b.\n",
    "# ------------>>>>>>>> RUN THIS CODE CELL <<<<<<<<------------\n",
    "# --------  (run after implementation)\n",
    "# === CODE TYPE: ANSWER \n",
    "\n",
    "def outlier_detection_iqr(df):\n",
    "    ###\n",
    "    df2 = df.copy()\n",
    "    for column in df2 :\n",
    "        if np.issubdtype (df2[column].dtype ,np.number) :\n",
    "            Q1= np.percentile(df2[column] ,25)\n",
    "            \n",
    "            Q3= np.percentile(df2[column] ,75 )\n",
    "            IQR = Q3-Q1\n",
    "            IQR_r = IQR*1.5\n",
    "            df2.loc [(df2[column]< Q1-IQR_r)| (df2[column]> Q3+IQR_r) ,[column]]= np.nan\n",
    "    return df2\n",
    "    ###\n"
   ]
  },
  {
   "cell_type": "code",
   "execution_count": 39,
   "metadata": {},
   "outputs": [],
   "source": [
    "# 5.b.\n",
    "# ------------>>>>>>>> RUN THIS CODE CELL <<<<<<<<------------\n",
    "# --------  (run after implementation)\n",
    "# === CODE TYPE: SELF TESTING\n",
    "# Use the following code to test your implementation:\n",
    "file_name = '.' + os.sep + 'data' + os.sep + 'imdb_movies.csv'\n",
    "col_name = 'movie_imdb_link'\n",
    "\n",
    "col_to_def_val = {'director_name':'unknown', \n",
    "    'actor_1_name':'unknown', 'actor_2_name':'unknown', 'actor_3_name':'unknown', 'genres':'unknown', \n",
    "    'plot_keywords':'unknown', 'movie_title':'unknown', 'movie_imdb_link':'unknown', 'country':'unknown'}\n",
    "df_imdb_movies = load_csv(file_name)\n",
    "df_cln = remove_duplicatives(df_imdb_movies, col_name)\n",
    "df_rem_corrupt = remove_corrupt_rows(df_cln, 3)\n",
    "df_rpl_missing = replace_missing_values(df_rem_corrupt, col_to_def_val)\n",
    "df_outlier_rem = outlier_detection_iqr(df_rpl_missing)\n",
    "###\n",
    "### YOUR CODE HERE\n",
    "###\n"
   ]
  },
  {
   "cell_type": "code",
   "execution_count": 40,
   "metadata": {
    "collapsed": true
   },
   "outputs": [],
   "source": [
    "# 5.b.\n",
    "# ------------>>>>>>>> RUN THIS CODE CELL <<<<<<<<------------\n",
    "# --------  (run after implementation, if used)\n",
    "# === CODE TYPE: SELF TESTING\n",
    "# Add your additional tests here if needed:\n",
    "\n",
    "###\n",
    "### YOUR CODE HERE\n",
    "###\n"
   ]
  },
  {
   "cell_type": "code",
   "execution_count": 41,
   "metadata": {
    "deletable": false,
    "editable": false,
    "nbgrader": {
     "grade": true,
     "grade_id": "test5b-1_outlier_detection_iqr",
     "locked": true,
     "points": "0.1",
     "solution": false
    }
   },
   "outputs": [
    {
     "name": "stdout",
     "output_type": "stream",
     "text": [
      "Part 5.b. - Test 1 (name: test5b-1_outlier_detection_iqr, points: 0.1) - Sanity\n",
      "\t--->Testing the implementation of 'outlier_detection_iqr' ...\n",
      "\n",
      "Good Job!\n",
      "You've passed the 1st test of the 'outlier_detection_iqr' method implementation :-)\n"
     ]
    }
   ],
   "source": [
    "# 5.b.\n",
    "# ------------>>>>>>>> RUN THIS CODE CELL <<<<<<<<------------\n",
    "# --------  (run only)\n",
    "# === CODE TYPE: GRADED TEST \n",
    "\n",
    "\n",
    "print (\"Part 5.b. - Test 1 (name: test5b-1_outlier_detection_iqr, points: 0.1) - Sanity\")\n",
    "print (\"\\t--->Testing the implementation of 'outlier_detection_iqr' ...\")\n",
    "\n",
    "file_name = '.' + os.sep + 'data' + os.sep + 'imdb_movies.csv'\n",
    "col_name = 'movie_imdb_link'\n",
    "\n",
    "col_to_def_val = {'director_name':'unknown', \n",
    "    'actor_1_name':'unknown', 'actor_2_name':'unknown', 'actor_3_name':'unknown', 'genres':'unknown', \n",
    "    'plot_keywords':'unknown', 'movie_title':'unknown', 'movie_imdb_link':'unknown', 'country':'unknown'}\n",
    "try:\n",
    "    df_imdb_movies = load_csv(file_name)\n",
    "    df_cln = remove_duplicatives(df_imdb_movies, col_name)\n",
    "    df_rem_corrupt = remove_corrupt_rows(df_cln, 3)\n",
    "    df_rpl_missing = replace_missing_values(df_rem_corrupt, col_to_def_val)\n",
    "    df_outlier_rem = outlier_detection_iqr(df_rpl_missing)\n",
    "except Exception as e:\n",
    "    print ('You probably have a syntax error, we got the following exception:')\n",
    "    print (str(e))\n",
    "    raise\n",
    "\n",
    "print (\"\\nGood Job!\\nYou've passed the 1st test of the 'outlier_detection_iqr' method implementation :-)\")"
   ]
  },
  {
   "cell_type": "code",
   "execution_count": 42,
   "metadata": {
    "deletable": false,
    "editable": false,
    "nbgrader": {
     "grade": true,
     "grade_id": "test5b-2_outlier_detection_iqr",
     "locked": true,
     "points": "0.4",
     "solution": false
    }
   },
   "outputs": [
    {
     "name": "stdout",
     "output_type": "stream",
     "text": [
      "Part 5.b. - Test 2 (name: test5b-2_outlier_detection_iqr, points: 0.4)\n",
      "\t--->Testing the implementation of 'outlier_detection_iqr' ...\n",
      "\n",
      "Good Job!\n",
      "You've passed the 2nd test of the 'outlier_detection_iqr' method implementation :-)\n"
     ]
    }
   ],
   "source": [
    "# 5.b.\n",
    "# ------------>>>>>>>> RUN THIS CODE CELL <<<<<<<<------------\n",
    "# --------  (run only)\n",
    "# === CODE TYPE: GRADED TEST \n",
    "\n",
    "print (\"Part 5.b. - Test 2 (name: test5b-2_outlier_detection_iqr, points: 0.4)\")\n",
    "print (\"\\t--->Testing the implementation of 'outlier_detection_iqr' ...\")\n",
    "\n",
    "file_name = '.' + os.sep + 'data' + os.sep + 'imdb_movies.csv'\n",
    "col_name = 'movie_imdb_link'\n",
    "\n",
    "col_to_def_val = {'director_name':'unknown', \n",
    "    'actor_1_name':'unknown', 'actor_2_name':'unknown', 'actor_3_name':'unknown', 'genres':'unknown', \n",
    "    'plot_keywords':'unknown', 'movie_title':'unknown', 'movie_imdb_link':'unknown', 'country':'unknown'}\n",
    "try:\n",
    "    df_imdb_movies = load_csv(file_name)\n",
    "    df_cln = remove_duplicatives(df_imdb_movies, col_name)\n",
    "    df_rem_corrupt = remove_corrupt_rows(df_cln, 3)\n",
    "    df_rpl_missing = replace_missing_values(df_rem_corrupt, col_to_def_val)\n",
    "    df_outlier_rem = outlier_detection_iqr(df_rpl_missing)\n",
    "except Exception as e:\n",
    "    print ('You probably have a syntax error, we got the following exception:')\n",
    "    print (str(e))\n",
    "    raise\n",
    "df_outliers = df_outlier_rem.isnull().sum().to_frame('iqr_outliers')\n",
    "assert 195 == df_outliers['iqr_outliers']['num_critic_for_reviews'], \"Wrong number of 'num_critic_for_reviews' outliers\"\n",
    "assert 414 == df_outliers['iqr_outliers']['gross'], \"Wrong number of 'gross' outliers\"\n",
    "assert 108 == df_outliers['iqr_outliers']['imdb_score'], \"Wrong number of 'imdb_score' outliers\"\n",
    "assert (4724, 28) == df_outlier_rem.shape, \"The 'df_outlier_rem' datafrane has the wrong shape\"\n",
    "\n",
    "print (\"\\nGood Job!\\nYou've passed the 2nd test of the 'outlier_detection_iqr' method implementation :-)\")"
   ]
  },
  {
   "cell_type": "code",
   "execution_count": 43,
   "metadata": {
    "deletable": false,
    "editable": false,
    "nbgrader": {
     "grade": true,
     "grade_id": "test5b-3_outlier_detection_iqr",
     "locked": true,
     "points": "0.5",
     "solution": false
    }
   },
   "outputs": [
    {
     "name": "stdout",
     "output_type": "stream",
     "text": [
      "Part 5.b. - Test 3 (name: test5b-3_outlier_detection_iqr, points: 0.5)\n",
      "\t--->Testing the implementation of 'outlier_detection_iqr' ...\n",
      "\n",
      "\t====> Full grading test - the following test can not be seen before submission\n"
     ]
    }
   ],
   "source": [
    "# 5.b.\n",
    "# ------------>>>>>>>> RUN THIS CODE CELL <<<<<<<<------------\n",
    "# --------  (run only)\n",
    "# === CODE TYPE: GRADED TEST \n",
    "\n",
    "\n",
    "print (\"Part 5.b. - Test 3 (name: test5b-3_outlier_detection_iqr, points: 0.5)\")\n",
    "print (\"\\t--->Testing the implementation of 'outlier_detection_iqr' ...\")\n",
    "print (\"\\n\\t====> Full grading test - the following test can not be seen before submission\")\n",
    "\n",
    "###\n",
    "### AUTOGRADER TEST - DO NOT REMOVE\n",
    "###\n"
   ]
  },
  {
   "cell_type": "markdown",
   "metadata": {
    "deletable": false,
    "editable": false,
    "nbgrader": {
     "grade": false,
     "locked": true,
     "solution": false
    }
   },
   "source": [
    "### 5.c. Outlier detection, using the distance from the average"
   ]
  },
  {
   "cell_type": "markdown",
   "metadata": {
    "deletable": false,
    "editable": false,
    "nbgrader": {
     "grade": false,
     "locked": true,
     "solution": false
    }
   },
   "source": [
    "### 5.c. Instructions\n",
    "<u>method name</u>: <b>outlier_detection_dist_to_avg</b>\n",
    "<pre>The following is expected:\n",
    "--- Complete the 'outlier_detection_dist_to_avg' function to return a copy of a the given 'df' dataframe,\n",
    "    after dealing with outliers.\n",
    "\n",
    "    This time, an outlier is considered as such, \n",
    "          if the absolute value of the z-score (as you learned in the lesson) is greater than 3.\n",
    "\n",
    "    Notes:    \n",
    "         * The standard diviation (std) needs to be calculated as std for a sample (and not for a population).\n",
    "         * You should only refer to numerical columns when detecting outliers.   \n",
    "         * If the value is an outlier, replace it with np.nan\n",
    "</pre>"
   ]
  },
  {
   "cell_type": "code",
   "execution_count": 44,
   "metadata": {
    "collapsed": true
   },
   "outputs": [],
   "source": [
    "# 5.c.\n",
    "# ------------>>>>>>>> RUN THIS CODE CELL <<<<<<<<------------\n",
    "# --------  (run after implementation)\n",
    "# === CODE TYPE: ANSWER \n",
    "\n",
    "def outlier_detection_zscore_dist(df):\n",
    "    ###\n",
    "    df2= df.copy()\n",
    "    for column in df2 :\n",
    "        if np.issubdtype (df2[column].dtype ,np.number) :\n",
    "            zscore= (df2[column]- df2[column].mean())/ df[column].std()\n",
    "            df2.loc [abs(zscore)> 3 ,[column]]=np.nan\n",
    "    return df2\n",
    "    ###\n"
   ]
  },
  {
   "cell_type": "code",
   "execution_count": 45,
   "metadata": {
    "collapsed": true
   },
   "outputs": [],
   "source": [
    "# 5.c.\n",
    "# ------------>>>>>>>> RUN THIS CODE CELL <<<<<<<<------------\n",
    "# --------  (run after implementation)\n",
    "# === CODE TYPE: SELF TESTING\n",
    "# Use the following code to test your implementation:\n",
    "file_name = '.' + os.sep + 'data' + os.sep + 'imdb_movies.csv'\n",
    "col_name = 'movie_imdb_link'\n",
    "col_to_def_val = {'director_name':'unknown', \n",
    "    'actor_1_name':'unknown', 'actor_2_name':'unknown', 'actor_3_name':'unknown', 'genres':'unknown', \n",
    "    'plot_keywords':'unknown', 'movie_title':'unknown', 'movie_imdb_link':'unknown', 'country':'unknown'}\n",
    "df_imdb_movies = load_csv(file_name)\n",
    "df_cln = remove_duplicatives(df_imdb_movies, col_name)\n",
    "df_rem_corrupt = remove_corrupt_rows(df_cln, 3)\n",
    "df_rpl_missing = replace_missing_values(df_rem_corrupt, col_to_def_val)\n",
    "df_outlier2_rem = outlier_detection_zscore_dist(df_rpl_missing)\n",
    "###\n",
    "### YOUR CODE HERE\n",
    "###\n"
   ]
  },
  {
   "cell_type": "code",
   "execution_count": 46,
   "metadata": {
    "collapsed": true
   },
   "outputs": [],
   "source": [
    "# 5.c.\n",
    "# ------------>>>>>>>> RUN THIS CODE CELL <<<<<<<<------------\n",
    "# --------  (run after implementation, if used)\n",
    "# === CODE TYPE: SELF TESTING\n",
    "# Add your additional tests here if needed:\n",
    "\n",
    "###\n",
    "### YOUR CODE HERE\n",
    "###\n"
   ]
  },
  {
   "cell_type": "code",
   "execution_count": 47,
   "metadata": {
    "deletable": false,
    "editable": false,
    "nbgrader": {
     "grade": true,
     "grade_id": "test5c-1_outlier_detection_zscore_dist",
     "locked": true,
     "points": "0.1",
     "solution": false
    }
   },
   "outputs": [
    {
     "name": "stdout",
     "output_type": "stream",
     "text": [
      "Part 5.c. - Test 1 (name: test5c-1_outlier_detection_zscore_dist, points: 0.1) - Sanity\n",
      "\t--->Testing the implementation of 'outlier_detection_zscore_dist' ...\n",
      "\n",
      "Good Job!\n",
      "You've passed the 1st test of the 'outlier_detection_zscore_dist' method implementation :-)\n"
     ]
    }
   ],
   "source": [
    "# 5.c.\n",
    "# ------------>>>>>>>> RUN THIS CODE CELL <<<<<<<<------------\n",
    "# --------  (run only)\n",
    "# === CODE TYPE: GRADED TEST \n",
    "\n",
    "print (\"Part 5.c. - Test 1 (name: test5c-1_outlier_detection_zscore_dist, points: 0.1) - Sanity\")\n",
    "print (\"\\t--->Testing the implementation of 'outlier_detection_zscore_dist' ...\")\n",
    "\n",
    "file_name = '.' + os.sep + 'data' + os.sep + 'imdb_movies.csv'\n",
    "col_name = 'movie_imdb_link'\n",
    "\n",
    "col_to_def_val = {'director_name':'unknown', \n",
    "    'actor_1_name':'unknown', 'actor_2_name':'unknown', 'actor_3_name':'unknown', 'genres':'unknown', \n",
    "    'plot_keywords':'unknown', 'movie_title':'unknown', 'movie_imdb_link':'unknown', 'country':'unknown'}\n",
    "try:\n",
    "    df_imdb_movies = load_csv(file_name)\n",
    "    df_cln = remove_duplicatives(df_imdb_movies, col_name)\n",
    "    df_rem_corrupt = remove_corrupt_rows(df_cln, 3)\n",
    "    df_rpl_missing = replace_missing_values(df_rem_corrupt, col_to_def_val)\n",
    "    df_outlier2_rem = outlier_detection_zscore_dist(df_rpl_missing)\n",
    "except Exception as e:\n",
    "    print ('You probably have a syntax error, we got the following exception:')\n",
    "    print (str(e))\n",
    "    raise\n",
    "\n",
    "print (\"\\nGood Job!\\nYou've passed the 1st test of the 'outlier_detection_zscore_dist' method implementation :-)\")"
   ]
  },
  {
   "cell_type": "code",
   "execution_count": 48,
   "metadata": {
    "deletable": false,
    "editable": false,
    "nbgrader": {
     "grade": true,
     "grade_id": "test5c-2_outlier_detection_zscore_dist",
     "locked": true,
     "points": "0.4",
     "solution": false
    }
   },
   "outputs": [
    {
     "name": "stdout",
     "output_type": "stream",
     "text": [
      "Part 5.c. - Test 2 (name: test5c-2_outlier_detection_zscore_dist, points: 0.4)\n",
      "\t--->Testing the implementation of 'outlier_detection_zscore_dist' ...\n",
      "\n",
      "Good Job!\n",
      "You've passed the 2nd test of the 'outlier_detection_zscore_dist' method implementation :-)\n"
     ]
    }
   ],
   "source": [
    "# 5.c.\n",
    "# ------------>>>>>>>> RUN THIS CODE CELL <<<<<<<<------------\n",
    "# --------  (run only)\n",
    "# === CODE TYPE: GRADED TEST \n",
    "\n",
    "print (\"Part 5.c. - Test 2 (name: test5c-2_outlier_detection_zscore_dist, points: 0.4)\")\n",
    "print (\"\\t--->Testing the implementation of 'outlier_detection_zscore_dist' ...\")\n",
    "\n",
    "file_name = '.' + os.sep + 'data' + os.sep + 'imdb_movies.csv'\n",
    "col_name = 'movie_imdb_link'\n",
    "\n",
    "col_to_def_val = {'director_name':'unknown', \n",
    "    'actor_1_name':'unknown', 'actor_2_name':'unknown', 'actor_3_name':'unknown', 'genres':'unknown', \n",
    "    'plot_keywords':'unknown', 'movie_title':'unknown', 'movie_imdb_link':'unknown', 'country':'unknown'}\n",
    "try:\n",
    "    df_imdb_movies = load_csv(file_name)\n",
    "    df_cln = remove_duplicatives(df_imdb_movies, col_name)\n",
    "    df_rem_corrupt = remove_corrupt_rows(df_cln, 3)\n",
    "    df_rpl_missing = replace_missing_values(df_rem_corrupt, col_to_def_val)\n",
    "    df_outlier2_rem = outlier_detection_zscore_dist(df_rpl_missing)\n",
    "except Exception as e:\n",
    "    print ('You probably have a syntax error, we got the following exception:')\n",
    "    print (str(e))\n",
    "    raise\n",
    "    \n",
    "df_outliers2 = df_outlier2_rem.isnull().sum().to_frame('zscore_outliers')\n",
    "assert 79 == df_outliers2['zscore_outliers']['num_critic_for_reviews'], \"Wrong number of 'num_critic_for_reviews' outliers\"\n",
    "assert 112 == df_outliers2['zscore_outliers']['gross'], \"Wrong number of 'gross' outliers\"\n",
    "assert 42 == df_outliers2['zscore_outliers']['imdb_score'], \"Wrong number of 'imdb_score' outliers\"\n",
    "assert (4724, 28) == df_outlier2_rem.shape, \"The 'df_outlier_rem' datafrane has the wrong shape\"\n",
    "\n",
    "print (\"\\nGood Job!\\nYou've passed the 2nd test of the 'outlier_detection_zscore_dist' method implementation :-)\")"
   ]
  },
  {
   "cell_type": "code",
   "execution_count": 49,
   "metadata": {
    "deletable": false,
    "editable": false,
    "nbgrader": {
     "grade": true,
     "grade_id": "test5c-3_outlier_detection_zscore_dist",
     "locked": true,
     "points": "0.5",
     "solution": false
    }
   },
   "outputs": [
    {
     "name": "stdout",
     "output_type": "stream",
     "text": [
      "Part 5.c. - Test 3 (name: test5c-3_outlier_detection_zscore_dist, points: 0.5)\n",
      "\t--->Testing the implementation of 'outlier_detection_zscore_dist' ...\n",
      "\n",
      "\t====> Full grading test - the following test can not be seen before submission\n"
     ]
    }
   ],
   "source": [
    "# 5.c.\n",
    "# ------------>>>>>>>> RUN THIS CODE CELL <<<<<<<<------------\n",
    "# --------  (run only)\n",
    "# === CODE TYPE: GRADED TEST \n",
    "\n",
    "print (\"Part 5.c. - Test 3 (name: test5c-3_outlier_detection_zscore_dist, points: 0.5)\")\n",
    "print (\"\\t--->Testing the implementation of 'outlier_detection_zscore_dist' ...\")\n",
    "print (\"\\n\\t====> Full grading test - the following test can not be seen before submission\")\n",
    "\n",
    "###\n",
    "### AUTOGRADER TEST - DO NOT REMOVE\n",
    "###\n"
   ]
  },
  {
   "cell_type": "markdown",
   "metadata": {
    "deletable": false,
    "editable": false,
    "nbgrader": {
     "grade": false,
     "locked": true,
     "solution": false
    }
   },
   "source": [
    "## 6. Transfer data to categorical columns"
   ]
  },
  {
   "cell_type": "markdown",
   "metadata": {
    "deletable": false,
    "editable": false,
    "nbgrader": {
     "grade": false,
     "locked": true,
     "solution": false
    }
   },
   "source": [
    "### 6. Instructions\n",
    "<u>method name</u>: <b>transfer_to_categorical</b>\n",
    "<pre>The following is expected:\n",
    "--- Complete the 'transfer_to_categorical' function to return a copy of a the given 'df' dataframe,\n",
    "    after transfering column values to categorical data for each input column, as explained below: \n",
    "\n",
    "A.\n",
    "The 'numeric_to_bin_value_dict' is a dictionary consisting the numeric column names as keys and\n",
    "   a list of bin values as values. \n",
    "      For instance it might look as following {'duration': [4, 5, 10, 20, 120, 200]}.\n",
    "\n",
    "Notes:\n",
    "* Expect the bin value list to consist of 6 values.\n",
    "* Use this dictionay to  trasfer the values of each of these numeric columns separately to 5 groups from 1 to 5.\n",
    "* Add the suffix '_categotial' to the new column name.\n",
    "  For instance, if the origanal column name is 'duration', the new column name should be called 'duration_categotial'\n",
    "\n",
    "B.\n",
    "You should ADD for each categorical column in 'categorical_col_names',\n",
    "    a single binary indicator variable column for each unique value in that column.\n",
    "    Note: Use the original string column name as a prefix to the new binary indicator column names.\n",
    "    Note: 'categorical_col_names' may contain columns with non-string values. \n",
    "</pre>"
   ]
  },
  {
   "cell_type": "code",
   "execution_count": 50,
   "metadata": {
    "collapsed": true
   },
   "outputs": [],
   "source": [
    "# 6.\n",
    "# ------------>>>>>>>> RUN THIS CODE CELL <<<<<<<<------------\n",
    "# --------  (run after implementation)\n",
    "# === CODE TYPE: ANSWER \n",
    "\n",
    "def transfer_to_categorical(df, numeric_to_bin_value_dict, categorical_col_names):  \n",
    "    ###\n",
    "    df2 = df.copy()\n",
    "    labels= [1,2,3,4,5]\n",
    "    for column in numeric_to_bin_value_dict.keys() :\n",
    "        new_name = \"{}_categotial\".format(column)\n",
    "        binses= numeric_to_bin_value_dict[column]\n",
    "        df2 [new_name]= pd.cut (df2[column],binses, labels =labels)\n",
    "    for column in categorical_col_names :\n",
    "        df2 = pd.get_dummies (df2 , columns =[column] ,prefix = [column])\n",
    "    return df2\n",
    "    ###\n"
   ]
  },
  {
   "cell_type": "code",
   "execution_count": 51,
   "metadata": {},
   "outputs": [],
   "source": [
    "# 6.\n",
    "# ------------>>>>>>>> RUN THIS CODE CELL <<<<<<<<------------\n",
    "# --------  (run after implementation)\n",
    "# === CODE TYPE: SELF TESTING\n",
    "# Use the following code to test your implementation:\n",
    "file_name = '.' + os.sep + 'data' + os.sep + 'imdb_movies.csv'\n",
    "col_name = 'movie_imdb_link'\n",
    "col_to_def_val = {'director_name':'unknown', \n",
    "    'actor_1_name':'unknown', 'actor_2_name':'unknown', 'actor_3_name':'unknown', 'genres':'unknown', \n",
    "    'plot_keywords':'unknown', 'movie_title':'unknown', 'movie_imdb_link':'unknown', 'country':'unknown'}\n",
    "numeric_to_bin_value_dict = {'duration': [41.0, 92.0, 100.0, 108.0, 121.0, 175.0], \n",
    "                             'imdb_score':[3.1, 5.6, 6.3, 6.799999999999999, 7.299999999999999, 9.3]}\n",
    "categorical_col_names = []\n",
    "df_imdb_movies = load_csv(file_name)\n",
    "df_cln = remove_duplicatives(df_imdb_movies, col_name)\n",
    "df_rem_corrupt = remove_corrupt_rows(df_cln, 3)\n",
    "df_rpl_missing = replace_missing_values(df_rem_corrupt, col_to_def_val)\n",
    "df_outlier2_rem = outlier_detection_zscore_dist(df_rpl_missing)\n",
    "# after outlier detection, fix values:\n",
    "df_outlier_repaired = replace_missing_values(df_outlier2_rem, col_to_def_val)\n",
    "df_categorical = transfer_to_categorical(df_outlier_repaired, numeric_to_bin_value_dict, categorical_col_names)\n",
    "###\n",
    "### YOUR CODE HERE\n",
    "###\n"
   ]
  },
  {
   "cell_type": "code",
   "execution_count": 52,
   "metadata": {
    "collapsed": true
   },
   "outputs": [],
   "source": [
    "# 6.\n",
    "# ------------>>>>>>>> RUN THIS CODE CELL <<<<<<<<------------\n",
    "# --------  (run after implementation, if used)\n",
    "# === CODE TYPE: SELF TESTING\n",
    "# Add your additional tests here if needed:\n",
    "\n",
    "###\n",
    "### YOUR CODE HERE\n",
    "###\n"
   ]
  },
  {
   "cell_type": "code",
   "execution_count": 53,
   "metadata": {
    "deletable": false,
    "editable": false,
    "nbgrader": {
     "grade": true,
     "grade_id": "test6-1_transfer_to_categorical_columns",
     "locked": true,
     "points": "0.1",
     "solution": false
    }
   },
   "outputs": [
    {
     "name": "stdout",
     "output_type": "stream",
     "text": [
      "Part 6. - Test 1 (name: test6-1_transfer_to_categorical_columns, points: 0.1) - Sanity\n",
      "\t--->Testing the implementation of 'transfer_to_categorical_columns' ...\n",
      "\n",
      "Good Job!\n",
      "You've passed the 1st test of the 'transfer_to_categorical_columns' method implementation :-)\n"
     ]
    }
   ],
   "source": [
    "# 6.\n",
    "# ------------>>>>>>>> RUN THIS CODE CELL <<<<<<<<------------\n",
    "# --------  (run only)\n",
    "# === CODE TYPE: GRADED TEST \n",
    "\n",
    "print (\"Part 6. - Test 1 (name: test6-1_transfer_to_categorical_columns, points: 0.1) - Sanity\")\n",
    "print (\"\\t--->Testing the implementation of 'transfer_to_categorical_columns' ...\")\n",
    "\n",
    "file_name = '.' + os.sep + 'data' + os.sep + 'imdb_movies.csv'\n",
    "col_name = 'movie_imdb_link'\n",
    "col_to_def_val = {'director_name':'unknown', \n",
    "    'actor_1_name':'unknown', 'actor_2_name':'unknown', 'actor_3_name':'unknown', 'genres':'unknown', \n",
    "    'plot_keywords':'unknown', 'movie_title':'unknown', 'movie_imdb_link':'unknown', 'country':'unknown'}\n",
    "numeric_to_bin_value_dict = {'duration': [41.0, 92.0, 100.0, 108.0, 121.0, 175.0], \n",
    "                             'imdb_score':[3.1, 5.6, 6.3, 6.799999999999999, 7.299999999999999, 9.3]}\n",
    "categorical_col_names = []\n",
    "try:\n",
    "    df_imdb_movies = load_csv(file_name)\n",
    "    df_cln = remove_duplicatives(df_imdb_movies, col_name)\n",
    "    df_rem_corrupt = remove_corrupt_rows(df_cln, 3)\n",
    "    df_rpl_missing = replace_missing_values(df_rem_corrupt, col_to_def_val)\n",
    "    df_outlier2_rem = outlier_detection_zscore_dist(df_rpl_missing)\n",
    "    # after outlier detection, fix values:\n",
    "    df_outlier_repaired = replace_missing_values(df_outlier2_rem, col_to_def_val)\n",
    "    df_categorical = transfer_to_categorical(df_outlier_repaired, numeric_to_bin_value_dict, categorical_col_names)\n",
    "except Exception as e:\n",
    "    print ('You probably have a syntax error, we got the following exception:')\n",
    "    print (str(e))\n",
    "    raise\n",
    "    \n",
    "print (\"\\nGood Job!\\nYou've passed the 1st test of the 'transfer_to_categorical_columns' method implementation :-)\")"
   ]
  },
  {
   "cell_type": "code",
   "execution_count": 54,
   "metadata": {
    "deletable": false,
    "editable": false,
    "nbgrader": {
     "grade": true,
     "grade_id": "test6-2_transfer_to_categorical_columns",
     "locked": true,
     "points": "0.2",
     "solution": false
    }
   },
   "outputs": [
    {
     "name": "stdout",
     "output_type": "stream",
     "text": [
      "Part 6. - Test 2 (name: test6-2_transfer_to_categorical_columns, points: 0.2)\n",
      "\t--->Testing the implementation of 'transfer_to_categorical_columns' ...\n",
      "\n",
      "Good Job!\n",
      "You've passed the 2nd test of the 'transfer_to_categorical_columns' method implementation :-)\n"
     ]
    }
   ],
   "source": [
    "# 6.\n",
    "# ------------>>>>>>>> RUN THIS CODE CELL <<<<<<<<------------\n",
    "# --------  (run only)\n",
    "# === CODE TYPE: GRADED TEST \n",
    "\n",
    "print (\"Part 6. - Test 2 (name: test6-2_transfer_to_categorical_columns, points: 0.2)\")\n",
    "print (\"\\t--->Testing the implementation of 'transfer_to_categorical_columns' ...\")\n",
    "\n",
    "file_name = '.' + os.sep + 'data' + os.sep + 'imdb_movies.csv'\n",
    "col_name = 'movie_imdb_link'\n",
    "col_to_def_val = {'director_name':'unknown', \n",
    "    'actor_1_name':'unknown', 'actor_2_name':'unknown', 'actor_3_name':'unknown', 'genres':'unknown', \n",
    "    'plot_keywords':'unknown', 'movie_title':'unknown', 'movie_imdb_link':'unknown', 'country':'unknown'}\n",
    "numeric_to_bin_value_dict = {'duration': [41.0, 92.0, 100.0, 108.0, 121.0, 175.0], \n",
    "                             'imdb_score':[3.1, 5.6, 6.3, 6.799999999999999, 7.299999999999999, 9.3]}\n",
    "categorical_col_names = []\n",
    "try:\n",
    "    df_imdb_movies = load_csv(file_name)\n",
    "    df_cln = remove_duplicatives(df_imdb_movies, col_name)\n",
    "    df_rem_corrupt = remove_corrupt_rows(df_cln, 3)\n",
    "    df_rpl_missing = replace_missing_values(df_rem_corrupt, col_to_def_val)\n",
    "    df_outlier2_rem = outlier_detection_zscore_dist(df_rpl_missing)\n",
    "    # after outlier detection, fix values:\n",
    "    df_outlier_repaired = replace_missing_values(df_outlier2_rem, col_to_def_val)\n",
    "    df_categorical = transfer_to_categorical(df_outlier_repaired, numeric_to_bin_value_dict, categorical_col_names)\n",
    "except Exception as e:\n",
    "    print ('You probably have a syntax error, we got the following exception:')\n",
    "    print (str(e))\n",
    "    raise\n",
    "    \n",
    "assert 'duration_categotial' in df_categorical.columns, \"Missing syntetic categotial column\"\n",
    "assert 'imdb_score_categotial' in df_categorical.columns, \"Missing syntetic categotial column\"\n",
    "\n",
    "print (\"\\nGood Job!\\nYou've passed the 2nd test of the 'transfer_to_categorical_columns' method implementation :-)\")"
   ]
  },
  {
   "cell_type": "code",
   "execution_count": 55,
   "metadata": {
    "deletable": false,
    "editable": false,
    "nbgrader": {
     "grade": true,
     "grade_id": "test6-3_transfer_to_categorical_columns",
     "locked": true,
     "points": "0.3",
     "solution": false
    }
   },
   "outputs": [
    {
     "name": "stdout",
     "output_type": "stream",
     "text": [
      "Part 6. - Test 3 (name: test6-3_transfer_to_categorical_columns, points: 0.3)\n",
      "\t--->Testing the implementation of 'transfer_to_categorical_columns' ...\n",
      "\n",
      "Good Job!\n",
      "You've passed the 3rd test of the 'transfer_to_categorical_columns' method implementation :-)\n"
     ]
    }
   ],
   "source": [
    "# 6.\n",
    "# ------------>>>>>>>> RUN THIS CODE CELL <<<<<<<<------------\n",
    "# --------  (run only)\n",
    "# === CODE TYPE: GRADED TEST \n",
    "\n",
    "print (\"Part 6. - Test 3 (name: test6-3_transfer_to_categorical_columns, points: 0.3)\")\n",
    "print (\"\\t--->Testing the implementation of 'transfer_to_categorical_columns' ...\")\n",
    "\n",
    "file_name = '.' + os.sep + 'data' + os.sep + 'imdb_movies.csv'\n",
    "col_name = 'movie_imdb_link'\n",
    "col_to_def_val = {'director_name':'unknown', \n",
    "    'actor_1_name':'unknown', 'actor_2_name':'unknown', 'actor_3_name':'unknown', 'genres':'unknown', \n",
    "    'plot_keywords':'unknown', 'movie_title':'unknown', 'movie_imdb_link':'unknown', 'country':'unknown'}\n",
    "numeric_to_bin_value_dict = {}\n",
    "categorical_col_names = ['color']\n",
    "try:\n",
    "    df_imdb_movies = load_csv(file_name)\n",
    "    df_cln = remove_duplicatives(df_imdb_movies, col_name)\n",
    "    df_rem_corrupt = remove_corrupt_rows(df_cln, 3)\n",
    "    df_rpl_missing = replace_missing_values(df_rem_corrupt, col_to_def_val)\n",
    "    df_outlier2_rem = outlier_detection_zscore_dist(df_rpl_missing)\n",
    "    # after outlier detection, fix values:\n",
    "    df_outlier_repaired = replace_missing_values(df_outlier2_rem, col_to_def_val)\n",
    "    df_categorical = transfer_to_categorical(df_outlier_repaired, numeric_to_bin_value_dict, categorical_col_names)\n",
    "except Exception as e:\n",
    "    print ('You probably have a syntax error, we got the following exception:')\n",
    "    print (str(e))\n",
    "    raise\n",
    "    \n",
    "assert 'color_Color' in df_categorical.columns, \"Missing syntetic binary column\"\n",
    "\n",
    "print (\"\\nGood Job!\\nYou've passed the 3rd test of the 'transfer_to_categorical_columns' method implementation :-)\")"
   ]
  },
  {
   "cell_type": "code",
   "execution_count": 56,
   "metadata": {
    "deletable": false,
    "editable": false,
    "nbgrader": {
     "grade": true,
     "grade_id": "test6-4_transfer_to_categorical_columns",
     "locked": true,
     "points": "0.4",
     "solution": false
    }
   },
   "outputs": [
    {
     "name": "stdout",
     "output_type": "stream",
     "text": [
      "Part 6. - Test 4 (name: test6-4_transfer_to_categorical_columns, points: 0.4)\n",
      "\t--->Testing the implementation of 'transfer_to_categorical_columns' ...\n",
      "\n",
      "\t====> Full grading test - the following test can not be seen before submission\n"
     ]
    }
   ],
   "source": [
    "# 6.\n",
    "# ------------>>>>>>>> RUN THIS CODE CELL <<<<<<<<------------\n",
    "# --------  (run only)\n",
    "# === CODE TYPE: GRADED TEST \n",
    "\n",
    "print (\"Part 6. - Test 4 (name: test6-4_transfer_to_categorical_columns, points: 0.4)\")\n",
    "print (\"\\t--->Testing the implementation of 'transfer_to_categorical_columns' ...\")\n",
    "print (\"\\n\\t====> Full grading test - the following test can not be seen before submission\")\n",
    "\n",
    "###\n",
    "### AUTOGRADER TEST - DO NOT REMOVE\n",
    "###\n"
   ]
  },
  {
   "cell_type": "code",
   "execution_count": null,
   "metadata": {
    "collapsed": true
   },
   "outputs": [],
   "source": []
  }
 ],
 "metadata": {
  "kernelspec": {
   "display_name": "Python 3.8",
   "language": "python",
   "name": "python38"
  },
  "language_info": {
   "codemirror_mode": {
    "name": "ipython",
    "version": 3
   },
   "file_extension": ".py",
   "mimetype": "text/x-python",
   "name": "python",
   "nbconvert_exporter": "python",
   "pygments_lexer": "ipython3",
   "version": "3.8.7"
  }
 },
 "nbformat": 4,
 "nbformat_minor": 2
}
